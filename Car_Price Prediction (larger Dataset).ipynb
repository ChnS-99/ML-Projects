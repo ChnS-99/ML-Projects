{
 "cells": [
  {
   "cell_type": "markdown",
   "metadata": {},
   "source": [
    "# Used Car Price Prediction 2\n",
    "\n",
    "This is a Supervised Machine Learning Problem where I'll be using  \n",
    "+ Linear Regression\n",
    "+ Decission Tree\n",
    "+ Random Forest\n",
    "Algorithm"
   ]
  },
  {
   "cell_type": "markdown",
   "metadata": {},
   "source": [
    "###  Dataset Coloumn Description:\n",
    "- **Name:** Brand and model name of the car\n",
    "- **Location:** Location of the car\n",
    "- **Year:** Manufactured year of the car\n",
    "- **kilometers_Driven:** How much km has been driven by the car\n",
    "- **Fuel_Type:** CNG/Diesl/Petrol/LPG/Electric\n",
    "- **Transmission:** Manual/Automatic\n",
    "- **Owner_Type:** First/second/Third/Fourth or above\n",
    "- **Mileage:** Mileage of the car\n",
    "- **Power:** Power of the car\n",
    "- **Seats:** No of seats in the car\n",
    "- **New_Price:** New price of the car\n",
    "- **Price:** Price of the used car"
   ]
  },
  {
   "cell_type": "markdown",
   "metadata": {},
   "source": [
    "#  The Program"
   ]
  },
  {
   "cell_type": "code",
   "execution_count": 1,
   "metadata": {},
   "outputs": [],
   "source": [
    "#Importing useful libraries:\n",
    "import pandas as pd #for data analysis\n",
    "import numpy as np #provides powerful data structure\n",
    "import seaborn as sns #for high-level Statistical data visualization\n",
    "import matplotlib.pyplot as plt #for visualisation\n",
    "%matplotlib inline\n",
    "#to set the backend of matplotlib to the 'inline' backend"
   ]
  },
  {
   "cell_type": "code",
   "execution_count": 2,
   "metadata": {},
   "outputs": [
    {
     "data": {
      "text/html": [
       "<div>\n",
       "<style scoped>\n",
       "    .dataframe tbody tr th:only-of-type {\n",
       "        vertical-align: middle;\n",
       "    }\n",
       "\n",
       "    .dataframe tbody tr th {\n",
       "        vertical-align: top;\n",
       "    }\n",
       "\n",
       "    .dataframe thead th {\n",
       "        text-align: right;\n",
       "    }\n",
       "</style>\n",
       "<table border=\"1\" class=\"dataframe\">\n",
       "  <thead>\n",
       "    <tr style=\"text-align: right;\">\n",
       "      <th></th>\n",
       "      <th>Unnamed: 0</th>\n",
       "      <th>Name</th>\n",
       "      <th>Location</th>\n",
       "      <th>Year</th>\n",
       "      <th>Kilometers_Driven</th>\n",
       "      <th>Fuel_Type</th>\n",
       "      <th>Transmission</th>\n",
       "      <th>Owner_Type</th>\n",
       "      <th>Mileage</th>\n",
       "      <th>Engine</th>\n",
       "      <th>Power</th>\n",
       "      <th>Seats</th>\n",
       "      <th>New_Price</th>\n",
       "      <th>Price</th>\n",
       "    </tr>\n",
       "  </thead>\n",
       "  <tbody>\n",
       "    <tr>\n",
       "      <th>0</th>\n",
       "      <td>0</td>\n",
       "      <td>Maruti Wagon R LXI CNG</td>\n",
       "      <td>Mumbai</td>\n",
       "      <td>2010</td>\n",
       "      <td>72000</td>\n",
       "      <td>CNG</td>\n",
       "      <td>Manual</td>\n",
       "      <td>First</td>\n",
       "      <td>26.6 km/kg</td>\n",
       "      <td>998 CC</td>\n",
       "      <td>58.16 bhp</td>\n",
       "      <td>5.0</td>\n",
       "      <td>NaN</td>\n",
       "      <td>1.75</td>\n",
       "    </tr>\n",
       "    <tr>\n",
       "      <th>1</th>\n",
       "      <td>1</td>\n",
       "      <td>Hyundai Creta 1.6 CRDi SX Option</td>\n",
       "      <td>Pune</td>\n",
       "      <td>2015</td>\n",
       "      <td>41000</td>\n",
       "      <td>Diesel</td>\n",
       "      <td>Manual</td>\n",
       "      <td>First</td>\n",
       "      <td>19.67 kmpl</td>\n",
       "      <td>1582 CC</td>\n",
       "      <td>126.2 bhp</td>\n",
       "      <td>5.0</td>\n",
       "      <td>NaN</td>\n",
       "      <td>12.50</td>\n",
       "    </tr>\n",
       "    <tr>\n",
       "      <th>2</th>\n",
       "      <td>2</td>\n",
       "      <td>Honda Jazz V</td>\n",
       "      <td>Chennai</td>\n",
       "      <td>2011</td>\n",
       "      <td>46000</td>\n",
       "      <td>Petrol</td>\n",
       "      <td>Manual</td>\n",
       "      <td>First</td>\n",
       "      <td>18.2 kmpl</td>\n",
       "      <td>1199 CC</td>\n",
       "      <td>88.7 bhp</td>\n",
       "      <td>5.0</td>\n",
       "      <td>8.61 Lakh</td>\n",
       "      <td>4.50</td>\n",
       "    </tr>\n",
       "    <tr>\n",
       "      <th>3</th>\n",
       "      <td>3</td>\n",
       "      <td>Maruti Ertiga VDI</td>\n",
       "      <td>Chennai</td>\n",
       "      <td>2012</td>\n",
       "      <td>87000</td>\n",
       "      <td>Diesel</td>\n",
       "      <td>Manual</td>\n",
       "      <td>First</td>\n",
       "      <td>20.77 kmpl</td>\n",
       "      <td>1248 CC</td>\n",
       "      <td>88.76 bhp</td>\n",
       "      <td>7.0</td>\n",
       "      <td>NaN</td>\n",
       "      <td>6.00</td>\n",
       "    </tr>\n",
       "    <tr>\n",
       "      <th>4</th>\n",
       "      <td>4</td>\n",
       "      <td>Audi A4 New 2.0 TDI Multitronic</td>\n",
       "      <td>Coimbatore</td>\n",
       "      <td>2013</td>\n",
       "      <td>40670</td>\n",
       "      <td>Diesel</td>\n",
       "      <td>Automatic</td>\n",
       "      <td>Second</td>\n",
       "      <td>15.2 kmpl</td>\n",
       "      <td>1968 CC</td>\n",
       "      <td>140.8 bhp</td>\n",
       "      <td>5.0</td>\n",
       "      <td>NaN</td>\n",
       "      <td>17.74</td>\n",
       "    </tr>\n",
       "  </tbody>\n",
       "</table>\n",
       "</div>"
      ],
      "text/plain": [
       "   Unnamed: 0                              Name    Location  Year  \\\n",
       "0           0            Maruti Wagon R LXI CNG      Mumbai  2010   \n",
       "1           1  Hyundai Creta 1.6 CRDi SX Option        Pune  2015   \n",
       "2           2                      Honda Jazz V     Chennai  2011   \n",
       "3           3                 Maruti Ertiga VDI     Chennai  2012   \n",
       "4           4   Audi A4 New 2.0 TDI Multitronic  Coimbatore  2013   \n",
       "\n",
       "   Kilometers_Driven Fuel_Type Transmission Owner_Type     Mileage   Engine  \\\n",
       "0              72000       CNG       Manual      First  26.6 km/kg   998 CC   \n",
       "1              41000    Diesel       Manual      First  19.67 kmpl  1582 CC   \n",
       "2              46000    Petrol       Manual      First   18.2 kmpl  1199 CC   \n",
       "3              87000    Diesel       Manual      First  20.77 kmpl  1248 CC   \n",
       "4              40670    Diesel    Automatic     Second   15.2 kmpl  1968 CC   \n",
       "\n",
       "       Power  Seats  New_Price  Price  \n",
       "0  58.16 bhp    5.0        NaN   1.75  \n",
       "1  126.2 bhp    5.0        NaN  12.50  \n",
       "2   88.7 bhp    5.0  8.61 Lakh   4.50  \n",
       "3  88.76 bhp    7.0        NaN   6.00  \n",
       "4  140.8 bhp    5.0        NaN  17.74  "
      ]
     },
     "execution_count": 2,
     "metadata": {},
     "output_type": "execute_result"
    }
   ],
   "source": [
    "#load the data\n",
    "car = pd.read_csv('C:/Users/Hp/Downloads/new_car_data.csv')\n",
    "car.head(5) #it returns top 5 rows of the dataframe"
   ]
  },
  {
   "cell_type": "code",
   "execution_count": 3,
   "metadata": {},
   "outputs": [
    {
     "data": {
      "text/plain": [
       "(6019, 14)"
      ]
     },
     "execution_count": 3,
     "metadata": {},
     "output_type": "execute_result"
    }
   ],
   "source": [
    "#details  of our  data frame\n",
    "car.shape"
   ]
  },
  {
   "cell_type": "code",
   "execution_count": 4,
   "metadata": {},
   "outputs": [
    {
     "name": "stdout",
     "output_type": "stream",
     "text": [
      "<class 'pandas.core.frame.DataFrame'>\n",
      "RangeIndex: 6019 entries, 0 to 6018\n",
      "Data columns (total 14 columns):\n",
      " #   Column             Non-Null Count  Dtype  \n",
      "---  ------             --------------  -----  \n",
      " 0   Unnamed: 0         6019 non-null   int64  \n",
      " 1   Name               6019 non-null   object \n",
      " 2   Location           6019 non-null   object \n",
      " 3   Year               6019 non-null   int64  \n",
      " 4   Kilometers_Driven  6019 non-null   int64  \n",
      " 5   Fuel_Type          6019 non-null   object \n",
      " 6   Transmission       6019 non-null   object \n",
      " 7   Owner_Type         6019 non-null   object \n",
      " 8   Mileage            6017 non-null   object \n",
      " 9   Engine             5983 non-null   object \n",
      " 10  Power              5983 non-null   object \n",
      " 11  Seats              5977 non-null   float64\n",
      " 12  New_Price          824 non-null    object \n",
      " 13  Price              6019 non-null   float64\n",
      "dtypes: float64(2), int64(3), object(9)\n",
      "memory usage: 658.5+ KB\n"
     ]
    }
   ],
   "source": [
    "car.info()"
   ]
  },
  {
   "cell_type": "markdown",
   "metadata": {},
   "source": [
    "### Cleaning data"
   ]
  },
  {
   "cell_type": "code",
   "execution_count": 5,
   "metadata": {},
   "outputs": [],
   "source": [
    "#let's create a backup \n",
    "backup = car.copy()"
   ]
  },
  {
   "cell_type": "code",
   "execution_count": 6,
   "metadata": {},
   "outputs": [
    {
     "data": {
      "text/plain": [
       "Unnamed: 0              0\n",
       "Name                    0\n",
       "Location                0\n",
       "Year                    0\n",
       "Kilometers_Driven       0\n",
       "Fuel_Type               0\n",
       "Transmission            0\n",
       "Owner_Type              0\n",
       "Mileage                 2\n",
       "Engine                 36\n",
       "Power                  36\n",
       "Seats                  42\n",
       "New_Price            5195\n",
       "Price                   0\n",
       "dtype: int64"
      ]
     },
     "execution_count": 6,
     "metadata": {},
     "output_type": "execute_result"
    }
   ],
   "source": [
    "#checking for null values\n",
    "car.isnull().sum()"
   ]
  },
  {
   "cell_type": "code",
   "execution_count": 7,
   "metadata": {},
   "outputs": [
    {
     "data": {
      "text/plain": [
       "0    5.0\n",
       "dtype: float64"
      ]
     },
     "execution_count": 7,
     "metadata": {},
     "output_type": "execute_result"
    }
   ],
   "source": [
    "#removing null value from seats columns\n",
    "car['Seats'].mode()"
   ]
  },
  {
   "cell_type": "code",
   "execution_count": 8,
   "metadata": {},
   "outputs": [],
   "source": [
    "car['Seats'].fillna(value = 5.0, inplace = True)"
   ]
  },
  {
   "cell_type": "markdown",
   "metadata": {},
   "source": [
    "Mileage, Engine and power coloumnalso have null values but to remove them first we need to convert the datatype of these coloumns from object to numeric"
   ]
  },
  {
   "cell_type": "code",
   "execution_count": 9,
   "metadata": {},
   "outputs": [
    {
     "name": "stdout",
     "output_type": "stream",
     "text": [
      "<class 'pandas.core.frame.DataFrame'>\n",
      "RangeIndex: 6019 entries, 0 to 6018\n",
      "Data columns (total 14 columns):\n",
      " #   Column             Non-Null Count  Dtype  \n",
      "---  ------             --------------  -----  \n",
      " 0   Unnamed: 0         6019 non-null   int64  \n",
      " 1   Name               6019 non-null   object \n",
      " 2   Location           6019 non-null   object \n",
      " 3   Year               6019 non-null   int64  \n",
      " 4   Kilometers_Driven  6019 non-null   int64  \n",
      " 5   Fuel_Type          6019 non-null   object \n",
      " 6   Transmission       6019 non-null   object \n",
      " 7   Owner_Type         6019 non-null   object \n",
      " 8   Mileage            6017 non-null   object \n",
      " 9   Engine             5983 non-null   object \n",
      " 10  Power              5983 non-null   object \n",
      " 11  Seats              6019 non-null   float64\n",
      " 12  New_Price          824 non-null    object \n",
      " 13  Price              6019 non-null   float64\n",
      "dtypes: float64(2), int64(3), object(9)\n",
      "memory usage: 658.5+ KB\n"
     ]
    }
   ],
   "source": [
    "car.info()"
   ]
  },
  {
   "cell_type": "markdown",
   "metadata": {},
   "source": [
    "Removing units from all the 3 colums data:\n"
   ]
  },
  {
   "cell_type": "code",
   "execution_count": 10,
   "metadata": {},
   "outputs": [
    {
     "data": {
      "text/plain": [
       "array(['26.6 km/kg', '19.67 kmpl', '18.2 kmpl', '20.77 kmpl', '15.2 kmpl',\n",
       "       '21.1 km/kg', '23.08 kmpl', '11.36 kmpl', '20.54 kmpl',\n",
       "       '22.3 kmpl', '21.56 kmpl', '16.8 kmpl', '25.2 kmpl', '12.7 kmpl',\n",
       "       '0.0 kmpl', '13.5 kmpl', '25.8 kmpl', '28.4 kmpl', '20.45 kmpl',\n",
       "       '14.84 kmpl', '22.69 kmpl', '23.65 kmpl', '13.53 kmpl',\n",
       "       '18.5 kmpl', '14.4 kmpl', '20.92 kmpl', '17.5 kmpl', '12.8 kmpl',\n",
       "       '19.01 kmpl', '14.53 kmpl', '11.18 kmpl', '12.4 kmpl',\n",
       "       '16.09 kmpl', '14.0 kmpl', '24.3 kmpl', '18.15 kmpl', '11.74 kmpl',\n",
       "       '22.07 kmpl', '19.7 kmpl', '25.4 kmpl', '25.32 kmpl', '14.62 kmpl',\n",
       "       '14.28 kmpl', '14.9 kmpl', '11.25 kmpl', '24.4 kmpl', '16.55 kmpl',\n",
       "       '17.11 kmpl', '22.9 kmpl', '17.8 kmpl', '18.9 kmpl', '15.04 kmpl',\n",
       "       '25.17 kmpl', '20.36 kmpl', '13.29 kmpl', '13.68 kmpl',\n",
       "       '20.0 kmpl', '15.8 kmpl', '25.0 kmpl', '16.4 kmpl', '24.52 kmpl',\n",
       "       '22.1 kmpl', '8.5 kmpl', '15.1 kmpl', '16.95 kmpl', '19.64 kmpl',\n",
       "       '16.5 kmpl', '18.53 kmpl', '17.57 kmpl', '18.0 kmpl', '23.2 kmpl',\n",
       "       '16.73 kmpl', '17.0 kmpl', '13.0 kmpl', '17.68 kmpl', '22.7 kmpl',\n",
       "       '16.2 kmpl', '15.26 kmpl', '23.0 kmpl', '19.83 kmpl', '14.94 kmpl',\n",
       "       '17.71 kmpl', '14.74 kmpl', '16.0 kmpl', '22.32 kmpl',\n",
       "       '12.99 kmpl', '23.3 kmpl', '19.15 kmpl', '10.8 kmpl', '15.0 kmpl',\n",
       "       '22.0 kmpl', '21.9 kmpl', '12.05 kmpl', '11.7 kmpl', '21.21 kmpl',\n",
       "       '20.73 kmpl', '21.1 kmpl', '24.07 kmpl', '19.0 kmpl', '20.58 kmpl',\n",
       "       '19.27 kmpl', '11.5 kmpl', '18.6 kmpl', '21.14 kmpl', '11.05 kmpl',\n",
       "       '21.76 kmpl', '7.81 kmpl', '21.66 kmpl', '17.2 kmpl', '20.63 kmpl',\n",
       "       '19.4 kmpl', '14.8 kmpl', '26.0 kmpl', '20.4 kmpl', '21.5 kmpl',\n",
       "       '15.3 kmpl', '17.9 kmpl', '16.6 kmpl', '22.54 kmpl', '25.44 kmpl',\n",
       "       '13.7 kmpl', '22.48 kmpl', '12.9 kmpl', '19.98 kmpl', '21.4 kmpl',\n",
       "       '19.81 kmpl', '15.4 kmpl', '25.47 kmpl', '19.87 kmpl',\n",
       "       '17.45 kmpl', '14.7 kmpl', '15.64 kmpl', '15.73 kmpl',\n",
       "       '23.59 kmpl', '16.1 kmpl', '27.4 kmpl', '20.46 kmpl', '15.29 kmpl',\n",
       "       '20.51 kmpl', '11.8 kmpl', '14.3 kmpl', '14.67 kmpl', '17.19 kmpl',\n",
       "       '21.03 kmpl', '22.5 kmpl', '16.82 kmpl', '11.72 kmpl', '17.4 kmpl',\n",
       "       '17.05 kmpl', '24.0 kmpl', '28.09 kmpl', '20.5 kmpl', '13.1 kmpl',\n",
       "       '19.91 kmpl', '18.7 kmpl', '16.38 kmpl', '11.57 kmpl', '17.3 kmpl',\n",
       "       '22.95 kmpl', '18.88 kmpl', '23.4 kmpl', '22.74 kmpl',\n",
       "       '12.07 kmpl', '17.1 kmpl', '18.48 kmpl', '16.47 kmpl', '23.1 kmpl',\n",
       "       '14.07 kmpl', '16.02 kmpl', '19.3 kmpl', '17.7 kmpl', '9.52 kmpl',\n",
       "       '14.75 kmpl', '26.3 km/kg', '11.3 kmpl', '21.12 kmpl',\n",
       "       '21.02 kmpl', '14.45 kmpl', '19.33 kmpl', '13.8 kmpl', '24.7 kmpl',\n",
       "       '11.0 kmpl', '11.07 kmpl', '21.43 kmpl', '14.21 kmpl',\n",
       "       '18.86 kmpl', '16.07 kmpl', '13.49 kmpl', '20.38 kmpl',\n",
       "       '12.0 kmpl', '17.01 kmpl', '13.2 kmpl', '20.37 kmpl', '15.1 km/kg',\n",
       "       '15.96 kmpl', '14.16 kmpl', '13.17 kmpl', '27.62 kmpl',\n",
       "       '25.1 kmpl', '15.17 kmpl', '11.33 kmpl', '17.92 kmpl',\n",
       "       '12.55 kmpl', '12.6 kmpl', '17.72 kmpl', '18.16 kmpl',\n",
       "       '15.68 kmpl', '15.5 kmpl', '12.1 kmpl', '14.83 kmpl', '17.6 kmpl',\n",
       "       '14.6 kmpl', '14.66 kmpl', '10.93 kmpl', '20.68 kmpl', '9.9 kmpl',\n",
       "       '21.13 kmpl', '20.14 kmpl', '19.2 kmpl', '27.3 kmpl', '16.36 kmpl',\n",
       "       '26.59 kmpl', '12.5 kmpl', '13.6 kmpl', '15.06 kmpl', '10.13 kmpl',\n",
       "       '17.21 kmpl', '15.97 kmpl', '10.5 kmpl', '14.69 kmpl', '23.9 kmpl',\n",
       "       '19.1 kmpl', '21.27 kmpl', '15.9 kmpl', '20.7 kmpl', '14.1 kmpl',\n",
       "       '20.89 kmpl', '18.12 kmpl', '12.3 kmpl', '19.71 kmpl', '9.43 kmpl',\n",
       "       '13.4 kmpl', '13.14 kmpl', '18.1 kmpl', '22.77 kmpl', '14.49 kmpl',\n",
       "       '12.39 kmpl', '10.91 kmpl', '20.85 kmpl', '15.63 kmpl',\n",
       "       '27.39 kmpl', '18.3 kmpl', '16.78 kmpl', '25.5 kmpl', '10.0 kmpl',\n",
       "       '13.73 kmpl', '24.2 kmpl', '14.02 kmpl', '26.83 km/kg',\n",
       "       '16.77 kmpl', '24.5 kmpl', '20.34 kmpl', '21.7 kmpl', '9.7 kmpl',\n",
       "       '14.33 kmpl', '21.64 kmpl', '13.2 km/kg', '19.16 kmpl',\n",
       "       '16.93 kmpl', '9.0 kmpl', '26.2 km/kg', '16.3 kmpl', '12.62 kmpl',\n",
       "       '17.3 km/kg', '20.64 kmpl', '14.24 kmpl', '18.06 kmpl',\n",
       "       '10.2 kmpl', '10.1 kmpl', '18.25 kmpl', '13.93 kmpl', '25.83 kmpl',\n",
       "       '8.6 kmpl', '13.24 kmpl', '17.09 kmpl', '23.84 kmpl', '8.45 kmpl',\n",
       "       '19.6 kmpl', '19.5 kmpl', '20.3 kmpl', '16.05 kmpl', '11.2 kmpl',\n",
       "       '27.03 kmpl', '18.78 kmpl', '12.35 kmpl', '14.59 kmpl',\n",
       "       '17.32 kmpl', '14.95 kmpl', '13.22 kmpl', '23.03 kmpl',\n",
       "       '33.44 km/kg', '15.6 kmpl', '19.12 kmpl', '10.98 kmpl',\n",
       "       '33.54 km/kg', '16.46 kmpl', '18.4 kmpl', '11.1 kmpl',\n",
       "       '13.01 kmpl', '18.8 kmpl', '16.52 kmpl', '18.44 kmpl',\n",
       "       '19.49 kmpl', '23.5 kmpl', '23.8 kmpl', '12.65 kmpl', '20.65 kmpl',\n",
       "       '21.72 kmpl', '12.19 kmpl', '26.1 kmpl', '18.33 kmpl',\n",
       "       '12.81 kmpl', '17.5 km/kg', '17.06 kmpl', '17.67 kmpl',\n",
       "       '19.34 kmpl', '8.3 kmpl', '16.96 kmpl', '11.79 kmpl', '20.86 kmpl',\n",
       "       '16.98 kmpl', '11.68 kmpl', '15.74 kmpl', '15.7 kmpl',\n",
       "       '18.49 kmpl', '10.9 kmpl', '19.59 kmpl', '11.4 kmpl', '13.06 kmpl',\n",
       "       '21.0 kmpl', '15.15 kmpl', '16.9 kmpl', '18.23 kmpl', '25.0 km/kg',\n",
       "       '17.16 kmpl', '17.43 kmpl', '19.08 kmpl', '18.56 kmpl',\n",
       "       '11.9 kmpl', '24.6 km/kg', '21.79 kmpl', '12.95 kmpl', '25.6 kmpl',\n",
       "       '13.45 km/kg', '26.21 kmpl', '13.58 kmpl', '16.25 kmpl',\n",
       "       '10.4 kmpl', '17.44 kmpl', '19.2 km/kg', '22.71 kmpl',\n",
       "       '17.54 kmpl', '22.1 km/kg', '17.0 km/kg', '15.87 kmpl', '9.5 kmpl',\n",
       "       '11.56 kmpl', '14.39 kmpl', '19.09 kmpl', '17.85 kmpl',\n",
       "       '31.79 km/kg', '18.18 kmpl', '21.19 kmpl', '21.8 kmpl',\n",
       "       '15.42 kmpl', '14.47 kmpl', '19.69 kmpl', '12.83 kmpl', '8.0 kmpl',\n",
       "       '22.8 km/kg', '12.63 kmpl', '14.57 kmpl', '27.28 kmpl',\n",
       "       '15.41 kmpl', '32.26 km/kg', '18.19 kmpl', '13.33 kmpl',\n",
       "       '16.7 kmpl', '17.84 kmpl', '20.0 km/kg', '23.19 kmpl',\n",
       "       '11.49 kmpl', '18.51 kmpl', '13.44 kmpl', '8.7 kmpl', '8.77 kmpl',\n",
       "       '17.97 kmpl', '23.57 kmpl', '12.37 kmpl', '9.1 kmpl', '12.51 kmpl',\n",
       "       '19.44 kmpl', '21.38 kmpl', '16.51 kmpl', '24.8 kmpl',\n",
       "       '14.42 kmpl', '14.53 km/kg', '26.8 kmpl', '24.04 kmpl', '9.8 kmpl',\n",
       "       '19.68 kmpl', '21.4 km/kg', '21.2 kmpl', '19.72 kmpl', '14.2 kmpl',\n",
       "       '12.98 kmpl', '23.01 kmpl', '16.12 kmpl', '9.3 kmpl', '15.85 kmpl',\n",
       "       nan, '17.88 kmpl', '10.6 kmpl', '11.78 kmpl', '7.94 kmpl',\n",
       "       '25.01 kmpl', '8.1 kmpl', '13.9 kmpl', '11.62 kmpl', '20.62 kmpl',\n",
       "       '15.11 kmpl', '10.37 kmpl', '18.59 kmpl', '9.74 kmpl',\n",
       "       '14.81 kmpl', '8.2 kmpl', '12.97 kmpl', '7.5 kmpl', '30.46 km/kg',\n",
       "       '6.4 kmpl', '12.85 kmpl', '18.69 kmpl', '17.24 kmpl'], dtype=object)"
      ]
     },
     "execution_count": 10,
     "metadata": {},
     "output_type": "execute_result"
    }
   ],
   "source": [
    "car['Mileage'].unique()"
   ]
  },
  {
   "cell_type": "code",
   "execution_count": 11,
   "metadata": {},
   "outputs": [
    {
     "data": {
      "text/plain": [
       "array(['998 CC', '1582 CC', '1199 CC', '1248 CC', '1968 CC', '814 CC',\n",
       "       '1461 CC', '2755 CC', '1598 CC', '1462 CC', '1497 CC', '2179 CC',\n",
       "       '2477 CC', '1498 CC', '2143 CC', '1995 CC', '1984 CC', '1197 CC',\n",
       "       '2494 CC', '1798 CC', '2696 CC', '2698 CC', '1061 CC', '1198 CC',\n",
       "       '2987 CC', '796 CC', '624 CC', '1999 CC', '1991 CC', '2694 CC',\n",
       "       '1120 CC', '2498 CC', '799 CC', '2393 CC', '1399 CC', '1796 CC',\n",
       "       '2148 CC', '1396 CC', '1950 CC', '4806 CC', '1998 CC', '1086 CC',\n",
       "       '1193 CC', '2982 CC', '1493 CC', '2967 CC', '2993 CC', '1196 CC',\n",
       "       '1799 CC', '2497 CC', '2354 CC', '1373 CC', '2996 CC', '1591 CC',\n",
       "       '2894 CC', '5461 CC', '1595 CC', '936 CC', '1997 CC', nan,\n",
       "       '1896 CC', '1390 CC', '1364 CC', '2199 CC', '993 CC', '999 CC',\n",
       "       '1405 CC', '2956 CC', '1794 CC', '995 CC', '2496 CC', '1599 CC',\n",
       "       '2400 CC', '1495 CC', '2523 CC', '793 CC', '4134 CC', '1596 CC',\n",
       "       '1395 CC', '2953 CC', '1586 CC', '2362 CC', '1496 CC', '1368 CC',\n",
       "       '1298 CC', '1956 CC', '1299 CC', '3498 CC', '2835 CC', '1150 CC',\n",
       "       '3198 CC', '1343 CC', '1499 CC', '1186 CC', '1590 CC', '2609 CC',\n",
       "       '2499 CC', '2446 CC', '1978 CC', '2360 CC', '3436 CC', '2198 CC',\n",
       "       '4367 CC', '2706 CC', '1422 CC', '2979 CC', '1969 CC', '1489 CC',\n",
       "       '2489 CC', '1242 CC', '1388 CC', '1172 CC', '2495 CC', '1194 CC',\n",
       "       '3200 CC', '1781 CC', '1341 CC', '2773 CC', '3597 CC', '1985 CC',\n",
       "       '2147 CC', '1047 CC', '2999 CC', '2995 CC', '2997 CC', '1948 CC',\n",
       "       '2359 CC', '4395 CC', '2349 CC', '2720 CC', '1468 CC', '3197 CC',\n",
       "       '2487 CC', '1597 CC', '2771 CC', '72 CC', '4951 CC', '970 CC',\n",
       "       '2925 CC', '2200 CC', '5000 CC', '2149 CC', '5998 CC', '2092 CC',\n",
       "       '5204 CC', '2112 CC', '1797 CC'], dtype=object)"
      ]
     },
     "execution_count": 11,
     "metadata": {},
     "output_type": "execute_result"
    }
   ],
   "source": [
    "car['Engine'].unique()"
   ]
  },
  {
   "cell_type": "code",
   "execution_count": 12,
   "metadata": {},
   "outputs": [
    {
     "data": {
      "text/plain": [
       "array(['58.16 bhp', '126.2 bhp', '88.7 bhp', '88.76 bhp', '140.8 bhp',\n",
       "       '55.2 bhp', '63.1 bhp', '171.5 bhp', '103.6 bhp', '74 bhp',\n",
       "       '103.25 bhp', '116.3 bhp', '187.7 bhp', '115 bhp', '175.56 bhp',\n",
       "       '98.6 bhp', '83.8 bhp', '167.62 bhp', '190 bhp', '88.5 bhp',\n",
       "       '177.01 bhp', '80 bhp', '67.1 bhp', '102 bhp', '108.45 bhp',\n",
       "       '138.1 bhp', '184 bhp', '179.5 bhp', '103.5 bhp', '64 bhp',\n",
       "       '82 bhp', '254.8 bhp', '73.9 bhp', '46.3 bhp', '37.5 bhp',\n",
       "       '77 bhp', '82.9 bhp', '149.92 bhp', '138.03 bhp', '112.2 bhp',\n",
       "       '163.7 bhp', '71 bhp', '105 bhp', '174.33 bhp', '75 bhp',\n",
       "       '103.2 bhp', '53.3 bhp', '78.9 bhp', '147.6 bhp', '147.8 bhp',\n",
       "       '68 bhp', '186 bhp', '170 bhp', '69 bhp', '140 bhp', '78 bhp',\n",
       "       '194 bhp', '500 bhp', '108.5 bhp', '86.8 bhp', '187.74 bhp',\n",
       "       'null bhp', '132 bhp', '86.7 bhp', '73.94 bhp', '117.3 bhp',\n",
       "       '218 bhp', '168.5 bhp', '89.84 bhp', '110 bhp', '90 bhp',\n",
       "       '82.85 bhp', '67 bhp', '241.4 bhp', '35 bhp', '270.9 bhp',\n",
       "       '126.32 bhp', '73 bhp', '130 bhp', '100.6 bhp', '150 bhp',\n",
       "       '75.94 bhp', '215 bhp', '107.3 bhp', '37.48 bhp', '120 bhp',\n",
       "       '178 bhp', '152 bhp', '91.1 bhp', '85.80 bhp', '362.07 bhp',\n",
       "       '121.3 bhp', '143 bhp', '81.80 bhp', '171 bhp', '76.8 bhp',\n",
       "       '103.52 bhp', '444 bhp', '362.9 bhp', '67.06 bhp', '120.7 bhp',\n",
       "       '258 bhp', '81.86 bhp', '112 bhp', '88.73 bhp', '57.6 bhp',\n",
       "       '157.75 bhp', '102.5 bhp', '201.1 bhp', '83.1 bhp', '68.05 bhp',\n",
       "       '88.50 bhp', nan, '106 bhp', '100 bhp', '81.83 bhp', '85 bhp',\n",
       "       '64.1 bhp', '177.5 bhp', '246.7 bhp', '177.46 bhp', '65 bhp',\n",
       "       '67.04 bhp', '189.08 bhp', '99 bhp', '53.5 bhp', '194.3 bhp',\n",
       "       '70 bhp', '183 bhp', '254.79 bhp', '66.1 bhp', '76 bhp', '60 bhp',\n",
       "       '123.24 bhp', '47.3 bhp', '118 bhp', '88.8 bhp', '177 bhp',\n",
       "       '136 bhp', '201.15 bhp', '93.7 bhp', '177.6 bhp', '313 bhp',\n",
       "       '245 bhp', '125 bhp', '141 bhp', '227 bhp', '62 bhp', '141.1 bhp',\n",
       "       '83.14 bhp', '192 bhp', '67.05 bhp', '47 bhp', '235 bhp', '37 bhp',\n",
       "       '87.2 bhp', '203 bhp', '204 bhp', '246.74 bhp', '122 bhp',\n",
       "       '282 bhp', '181 bhp', '224 bhp', '94 bhp', '367 bhp', '98.79 bhp',\n",
       "       '62.1 bhp', '174.3 bhp', '114 bhp', '335.2 bhp', '169 bhp',\n",
       "       '191.34 bhp', '108.49 bhp', '138.02 bhp', '156 bhp', '187.4 bhp',\n",
       "       '66 bhp', '103.3 bhp', '164.7 bhp', '79.4 bhp', '198.5 bhp',\n",
       "       '154 bhp', '73.8 bhp', '181.43 bhp', '85.8 bhp', '207.8 bhp',\n",
       "       '108.4 bhp', '88 bhp', '63 bhp', '82.5 bhp', '364.9 bhp',\n",
       "       '107.2 bhp', '113.98 bhp', '126.3 bhp', '185 bhp', '237.4 bhp',\n",
       "       '99.6 bhp', '66.7 bhp', '160 bhp', '306 bhp', '98.59 bhp',\n",
       "       '92.7 bhp', '147.51 bhp', '197.2 bhp', '167.6 bhp', '165 bhp',\n",
       "       '110.4 bhp', '73.97 bhp', '147.9 bhp', '116.6 bhp', '148 bhp',\n",
       "       '34.2 bhp', '155 bhp', '197 bhp', '108.62 bhp', '118.3 bhp',\n",
       "       '38.4 bhp', '241.38 bhp', '153.86 bhp', '163.5 bhp', '226.6 bhp',\n",
       "       '84.8 bhp', '53.64 bhp', '158.2 bhp', '69.01 bhp', '181.03 bhp',\n",
       "       '58.2 bhp', '104.68 bhp', '126.24 bhp', '73.75 bhp', '158 bhp',\n",
       "       '130.2 bhp', '57.5 bhp', '97.7 bhp', '121.4 bhp', '98.96 bhp',\n",
       "       '174.5 bhp', '308 bhp', '121.36 bhp', '138 bhp', '265 bhp',\n",
       "       '84 bhp', '321 bhp', '91.72 bhp', '65.3 bhp', '88.2 bhp', '93 bhp',\n",
       "       '35.5 bhp', '86.79 bhp', '157.7 bhp', '40.3 bhp', '91.7 bhp',\n",
       "       '180 bhp', '114.4 bhp', '158.8 bhp', '157.8 bhp', '123.7 bhp',\n",
       "       '56.3 bhp', '189 bhp', '104 bhp', '210 bhp', '270.88 bhp',\n",
       "       '142 bhp', '255 bhp', '236 bhp', '167.7 bhp', '148.31 bhp',\n",
       "       '80.46 bhp', '138.08 bhp', '250 bhp', '74.9 bhp', '91.2 bhp',\n",
       "       '102.57 bhp', '97.6 bhp', '102.53 bhp', '240 bhp', '254 bhp',\n",
       "       '112.4 bhp', '73.74 bhp', '108.495 bhp', '116.9 bhp', '101 bhp',\n",
       "       '320 bhp', '70.02 bhp', '261.49 bhp', '105.5 bhp', '550 bhp',\n",
       "       '168.7 bhp', '55.23 bhp', '94.68 bhp', '152.88 bhp', '163.2 bhp',\n",
       "       '203.2 bhp', '241 bhp', '95 bhp', '200 bhp', '271.23 bhp',\n",
       "       '63.12 bhp', '85.7 bhp', '308.43 bhp', '118.6 bhp', '199.3 bhp',\n",
       "       '83.83 bhp', '55 bhp', '83 bhp', '300 bhp', '201 bhp', '262.6 bhp',\n",
       "       '163 bhp', '58.33 bhp', '86.76 bhp', '76.9 bhp', '174.57 bhp',\n",
       "       '301.73 bhp', '68.1 bhp', '162 bhp', '394.3 bhp', '80.9 bhp',\n",
       "       '147.5 bhp', '272 bhp', '340 bhp', '120.33 bhp', '82.4 bhp',\n",
       "       '231.1 bhp', '335.3 bhp', '333 bhp', '198.25 bhp', '224.34 bhp',\n",
       "       '402 bhp', '261 bhp', '61 bhp', '144 bhp', '71.01 bhp',\n",
       "       '271.72 bhp', '134 bhp', '135.1 bhp', '92 bhp', '64.08 bhp',\n",
       "       '261.5 bhp', '123.37 bhp', '175.67 bhp', '53 bhp', '110.5 bhp',\n",
       "       '178.4 bhp', '193.1 bhp', '41 bhp', '395 bhp', '48.21 bhp',\n",
       "       '450 bhp', '421 bhp', '89.75 bhp', '387.3 bhp', '130.3 bhp',\n",
       "       '281.61 bhp', '52.8 bhp', '139.01 bhp', '208 bhp', '503 bhp',\n",
       "       '168 bhp', '98.82 bhp', '139.07 bhp', '83.11 bhp', '74.93 bhp',\n",
       "       '382 bhp', '74.96 bhp', '552 bhp', '127 bhp', '560 bhp',\n",
       "       '116.4 bhp', '161.6 bhp', '488.1 bhp', '103 bhp', '181.04 bhp'],\n",
       "      dtype=object)"
      ]
     },
     "execution_count": 12,
     "metadata": {},
     "output_type": "execute_result"
    }
   ],
   "source": [
    "car['Power'].unique()"
   ]
  },
  {
   "cell_type": "code",
   "execution_count": 13,
   "metadata": {},
   "outputs": [],
   "source": [
    "#removing kmpl and km/kg from mileage column\n",
    "car['Mileage'] = car['Mileage'].apply(lambda x: str(x).replace('kmpl', '') if 'kmpl' in str(x) else str(x))\n",
    "car['Mileage'] = car['Mileage'].apply(lambda x:str(x).replace('km/kg', '') if 'km/kg' in str(x) else str(x))#removing CC from engine column\n",
    "car['Engine'] = car['Engine'].apply(lambda x: str(x).replace('CC', '') if 'CC' in str(x) else str(x))#removing bhp from power column\n",
    "car['Power'] = car['Power'].apply(lambda x: str(x).replace('bhp', '') if 'bhp' in str(x) else str(x))"
   ]
  },
  {
   "cell_type": "code",
   "execution_count": 14,
   "metadata": {},
   "outputs": [
    {
     "data": {
      "text/plain": [
       "array(['26.6 ', '19.67 ', '18.2 ', '20.77 ', '15.2 ', '21.1 ', '23.08 ',\n",
       "       '11.36 ', '20.54 ', '22.3 ', '21.56 ', '16.8 ', '25.2 ', '12.7 ',\n",
       "       '0.0 ', '13.5 ', '25.8 ', '28.4 ', '20.45 ', '14.84 ', '22.69 ',\n",
       "       '23.65 ', '13.53 ', '18.5 ', '14.4 ', '20.92 ', '17.5 ', '12.8 ',\n",
       "       '19.01 ', '14.53 ', '11.18 ', '12.4 ', '16.09 ', '14.0 ', '24.3 ',\n",
       "       '18.15 ', '11.74 ', '22.07 ', '19.7 ', '25.4 ', '25.32 ', '14.62 ',\n",
       "       '14.28 ', '14.9 ', '11.25 ', '24.4 ', '16.55 ', '17.11 ', '22.9 ',\n",
       "       '17.8 ', '18.9 ', '15.04 ', '25.17 ', '20.36 ', '13.29 ', '13.68 ',\n",
       "       '20.0 ', '15.8 ', '25.0 ', '16.4 ', '24.52 ', '22.1 ', '8.5 ',\n",
       "       '15.1 ', '16.95 ', '19.64 ', '16.5 ', '18.53 ', '17.57 ', '18.0 ',\n",
       "       '23.2 ', '16.73 ', '17.0 ', '13.0 ', '17.68 ', '22.7 ', '16.2 ',\n",
       "       '15.26 ', '23.0 ', '19.83 ', '14.94 ', '17.71 ', '14.74 ', '16.0 ',\n",
       "       '22.32 ', '12.99 ', '23.3 ', '19.15 ', '10.8 ', '15.0 ', '22.0 ',\n",
       "       '21.9 ', '12.05 ', '11.7 ', '21.21 ', '20.73 ', '24.07 ', '19.0 ',\n",
       "       '20.58 ', '19.27 ', '11.5 ', '18.6 ', '21.14 ', '11.05 ', '21.76 ',\n",
       "       '7.81 ', '21.66 ', '17.2 ', '20.63 ', '19.4 ', '14.8 ', '26.0 ',\n",
       "       '20.4 ', '21.5 ', '15.3 ', '17.9 ', '16.6 ', '22.54 ', '25.44 ',\n",
       "       '13.7 ', '22.48 ', '12.9 ', '19.98 ', '21.4 ', '19.81 ', '15.4 ',\n",
       "       '25.47 ', '19.87 ', '17.45 ', '14.7 ', '15.64 ', '15.73 ',\n",
       "       '23.59 ', '16.1 ', '27.4 ', '20.46 ', '15.29 ', '20.51 ', '11.8 ',\n",
       "       '14.3 ', '14.67 ', '17.19 ', '21.03 ', '22.5 ', '16.82 ', '11.72 ',\n",
       "       '17.4 ', '17.05 ', '24.0 ', '28.09 ', '20.5 ', '13.1 ', '19.91 ',\n",
       "       '18.7 ', '16.38 ', '11.57 ', '17.3 ', '22.95 ', '18.88 ', '23.4 ',\n",
       "       '22.74 ', '12.07 ', '17.1 ', '18.48 ', '16.47 ', '23.1 ', '14.07 ',\n",
       "       '16.02 ', '19.3 ', '17.7 ', '9.52 ', '14.75 ', '26.3 ', '11.3 ',\n",
       "       '21.12 ', '21.02 ', '14.45 ', '19.33 ', '13.8 ', '24.7 ', '11.0 ',\n",
       "       '11.07 ', '21.43 ', '14.21 ', '18.86 ', '16.07 ', '13.49 ',\n",
       "       '20.38 ', '12.0 ', '17.01 ', '13.2 ', '20.37 ', '15.96 ', '14.16 ',\n",
       "       '13.17 ', '27.62 ', '25.1 ', '15.17 ', '11.33 ', '17.92 ',\n",
       "       '12.55 ', '12.6 ', '17.72 ', '18.16 ', '15.68 ', '15.5 ', '12.1 ',\n",
       "       '14.83 ', '17.6 ', '14.6 ', '14.66 ', '10.93 ', '20.68 ', '9.9 ',\n",
       "       '21.13 ', '20.14 ', '19.2 ', '27.3 ', '16.36 ', '26.59 ', '12.5 ',\n",
       "       '13.6 ', '15.06 ', '10.13 ', '17.21 ', '15.97 ', '10.5 ', '14.69 ',\n",
       "       '23.9 ', '19.1 ', '21.27 ', '15.9 ', '20.7 ', '14.1 ', '20.89 ',\n",
       "       '18.12 ', '12.3 ', '19.71 ', '9.43 ', '13.4 ', '13.14 ', '18.1 ',\n",
       "       '22.77 ', '14.49 ', '12.39 ', '10.91 ', '20.85 ', '15.63 ',\n",
       "       '27.39 ', '18.3 ', '16.78 ', '25.5 ', '10.0 ', '13.73 ', '24.2 ',\n",
       "       '14.02 ', '26.83 ', '16.77 ', '24.5 ', '20.34 ', '21.7 ', '9.7 ',\n",
       "       '14.33 ', '21.64 ', '19.16 ', '16.93 ', '9.0 ', '26.2 ', '16.3 ',\n",
       "       '12.62 ', '20.64 ', '14.24 ', '18.06 ', '10.2 ', '10.1 ', '18.25 ',\n",
       "       '13.93 ', '25.83 ', '8.6 ', '13.24 ', '17.09 ', '23.84 ', '8.45 ',\n",
       "       '19.6 ', '19.5 ', '20.3 ', '16.05 ', '11.2 ', '27.03 ', '18.78 ',\n",
       "       '12.35 ', '14.59 ', '17.32 ', '14.95 ', '13.22 ', '23.03 ',\n",
       "       '33.44 ', '15.6 ', '19.12 ', '10.98 ', '33.54 ', '16.46 ', '18.4 ',\n",
       "       '11.1 ', '13.01 ', '18.8 ', '16.52 ', '18.44 ', '19.49 ', '23.5 ',\n",
       "       '23.8 ', '12.65 ', '20.65 ', '21.72 ', '12.19 ', '26.1 ', '18.33 ',\n",
       "       '12.81 ', '17.06 ', '17.67 ', '19.34 ', '8.3 ', '16.96 ', '11.79 ',\n",
       "       '20.86 ', '16.98 ', '11.68 ', '15.74 ', '15.7 ', '18.49 ', '10.9 ',\n",
       "       '19.59 ', '11.4 ', '13.06 ', '21.0 ', '15.15 ', '16.9 ', '18.23 ',\n",
       "       '17.16 ', '17.43 ', '19.08 ', '18.56 ', '11.9 ', '24.6 ', '21.79 ',\n",
       "       '12.95 ', '25.6 ', '13.45 ', '26.21 ', '13.58 ', '16.25 ', '10.4 ',\n",
       "       '17.44 ', '22.71 ', '17.54 ', '15.87 ', '9.5 ', '11.56 ', '14.39 ',\n",
       "       '19.09 ', '17.85 ', '31.79 ', '18.18 ', '21.19 ', '21.8 ',\n",
       "       '15.42 ', '14.47 ', '19.69 ', '12.83 ', '8.0 ', '22.8 ', '12.63 ',\n",
       "       '14.57 ', '27.28 ', '15.41 ', '32.26 ', '18.19 ', '13.33 ',\n",
       "       '16.7 ', '17.84 ', '23.19 ', '11.49 ', '18.51 ', '13.44 ', '8.7 ',\n",
       "       '8.77 ', '17.97 ', '23.57 ', '12.37 ', '9.1 ', '12.51 ', '19.44 ',\n",
       "       '21.38 ', '16.51 ', '24.8 ', '14.42 ', '26.8 ', '24.04 ', '9.8 ',\n",
       "       '19.68 ', '21.2 ', '19.72 ', '14.2 ', '12.98 ', '23.01 ', '16.12 ',\n",
       "       '9.3 ', '15.85 ', 'nan', '17.88 ', '10.6 ', '11.78 ', '7.94 ',\n",
       "       '25.01 ', '8.1 ', '13.9 ', '11.62 ', '20.62 ', '15.11 ', '10.37 ',\n",
       "       '18.59 ', '9.74 ', '14.81 ', '8.2 ', '12.97 ', '7.5 ', '30.46 ',\n",
       "       '6.4 ', '12.85 ', '18.69 ', '17.24 '], dtype=object)"
      ]
     },
     "execution_count": 14,
     "metadata": {},
     "output_type": "execute_result"
    }
   ],
   "source": [
    "car['Mileage'].unique()"
   ]
  },
  {
   "cell_type": "code",
   "execution_count": 15,
   "metadata": {},
   "outputs": [
    {
     "data": {
      "text/plain": [
       "array(['998 ', '1582 ', '1199 ', '1248 ', '1968 ', '814 ', '1461 ',\n",
       "       '2755 ', '1598 ', '1462 ', '1497 ', '2179 ', '2477 ', '1498 ',\n",
       "       '2143 ', '1995 ', '1984 ', '1197 ', '2494 ', '1798 ', '2696 ',\n",
       "       '2698 ', '1061 ', '1198 ', '2987 ', '796 ', '624 ', '1999 ',\n",
       "       '1991 ', '2694 ', '1120 ', '2498 ', '799 ', '2393 ', '1399 ',\n",
       "       '1796 ', '2148 ', '1396 ', '1950 ', '4806 ', '1998 ', '1086 ',\n",
       "       '1193 ', '2982 ', '1493 ', '2967 ', '2993 ', '1196 ', '1799 ',\n",
       "       '2497 ', '2354 ', '1373 ', '2996 ', '1591 ', '2894 ', '5461 ',\n",
       "       '1595 ', '936 ', '1997 ', 'nan', '1896 ', '1390 ', '1364 ',\n",
       "       '2199 ', '993 ', '999 ', '1405 ', '2956 ', '1794 ', '995 ',\n",
       "       '2496 ', '1599 ', '2400 ', '1495 ', '2523 ', '793 ', '4134 ',\n",
       "       '1596 ', '1395 ', '2953 ', '1586 ', '2362 ', '1496 ', '1368 ',\n",
       "       '1298 ', '1956 ', '1299 ', '3498 ', '2835 ', '1150 ', '3198 ',\n",
       "       '1343 ', '1499 ', '1186 ', '1590 ', '2609 ', '2499 ', '2446 ',\n",
       "       '1978 ', '2360 ', '3436 ', '2198 ', '4367 ', '2706 ', '1422 ',\n",
       "       '2979 ', '1969 ', '1489 ', '2489 ', '1242 ', '1388 ', '1172 ',\n",
       "       '2495 ', '1194 ', '3200 ', '1781 ', '1341 ', '2773 ', '3597 ',\n",
       "       '1985 ', '2147 ', '1047 ', '2999 ', '2995 ', '2997 ', '1948 ',\n",
       "       '2359 ', '4395 ', '2349 ', '2720 ', '1468 ', '3197 ', '2487 ',\n",
       "       '1597 ', '2771 ', '72 ', '4951 ', '970 ', '2925 ', '2200 ',\n",
       "       '5000 ', '2149 ', '5998 ', '2092 ', '5204 ', '2112 ', '1797 '],\n",
       "      dtype=object)"
      ]
     },
     "execution_count": 15,
     "metadata": {},
     "output_type": "execute_result"
    }
   ],
   "source": [
    "car['Engine'].unique()"
   ]
  },
  {
   "cell_type": "code",
   "execution_count": 16,
   "metadata": {},
   "outputs": [
    {
     "data": {
      "text/plain": [
       "array(['58.16 ', '126.2 ', '88.7 ', '88.76 ', '140.8 ', '55.2 ', '63.1 ',\n",
       "       '171.5 ', '103.6 ', '74 ', '103.25 ', '116.3 ', '187.7 ', '115 ',\n",
       "       '175.56 ', '98.6 ', '83.8 ', '167.62 ', '190 ', '88.5 ', '177.01 ',\n",
       "       '80 ', '67.1 ', '102 ', '108.45 ', '138.1 ', '184 ', '179.5 ',\n",
       "       '103.5 ', '64 ', '82 ', '254.8 ', '73.9 ', '46.3 ', '37.5 ', '77 ',\n",
       "       '82.9 ', '149.92 ', '138.03 ', '112.2 ', '163.7 ', '71 ', '105 ',\n",
       "       '174.33 ', '75 ', '103.2 ', '53.3 ', '78.9 ', '147.6 ', '147.8 ',\n",
       "       '68 ', '186 ', '170 ', '69 ', '140 ', '78 ', '194 ', '500 ',\n",
       "       '108.5 ', '86.8 ', '187.74 ', 'null ', '132 ', '86.7 ', '73.94 ',\n",
       "       '117.3 ', '218 ', '168.5 ', '89.84 ', '110 ', '90 ', '82.85 ',\n",
       "       '67 ', '241.4 ', '35 ', '270.9 ', '126.32 ', '73 ', '130 ',\n",
       "       '100.6 ', '150 ', '75.94 ', '215 ', '107.3 ', '37.48 ', '120 ',\n",
       "       '178 ', '152 ', '91.1 ', '85.80 ', '362.07 ', '121.3 ', '143 ',\n",
       "       '81.80 ', '171 ', '76.8 ', '103.52 ', '444 ', '362.9 ', '67.06 ',\n",
       "       '120.7 ', '258 ', '81.86 ', '112 ', '88.73 ', '57.6 ', '157.75 ',\n",
       "       '102.5 ', '201.1 ', '83.1 ', '68.05 ', '88.50 ', 'nan', '106 ',\n",
       "       '100 ', '81.83 ', '85 ', '64.1 ', '177.5 ', '246.7 ', '177.46 ',\n",
       "       '65 ', '67.04 ', '189.08 ', '99 ', '53.5 ', '194.3 ', '70 ',\n",
       "       '183 ', '254.79 ', '66.1 ', '76 ', '60 ', '123.24 ', '47.3 ',\n",
       "       '118 ', '88.8 ', '177 ', '136 ', '201.15 ', '93.7 ', '177.6 ',\n",
       "       '313 ', '245 ', '125 ', '141 ', '227 ', '62 ', '141.1 ', '83.14 ',\n",
       "       '192 ', '67.05 ', '47 ', '235 ', '37 ', '87.2 ', '203 ', '204 ',\n",
       "       '246.74 ', '122 ', '282 ', '181 ', '224 ', '94 ', '367 ', '98.79 ',\n",
       "       '62.1 ', '174.3 ', '114 ', '335.2 ', '169 ', '191.34 ', '108.49 ',\n",
       "       '138.02 ', '156 ', '187.4 ', '66 ', '103.3 ', '164.7 ', '79.4 ',\n",
       "       '198.5 ', '154 ', '73.8 ', '181.43 ', '85.8 ', '207.8 ', '108.4 ',\n",
       "       '88 ', '63 ', '82.5 ', '364.9 ', '107.2 ', '113.98 ', '126.3 ',\n",
       "       '185 ', '237.4 ', '99.6 ', '66.7 ', '160 ', '306 ', '98.59 ',\n",
       "       '92.7 ', '147.51 ', '197.2 ', '167.6 ', '165 ', '110.4 ', '73.97 ',\n",
       "       '147.9 ', '116.6 ', '148 ', '34.2 ', '155 ', '197 ', '108.62 ',\n",
       "       '118.3 ', '38.4 ', '241.38 ', '153.86 ', '163.5 ', '226.6 ',\n",
       "       '84.8 ', '53.64 ', '158.2 ', '69.01 ', '181.03 ', '58.2 ',\n",
       "       '104.68 ', '126.24 ', '73.75 ', '158 ', '130.2 ', '57.5 ', '97.7 ',\n",
       "       '121.4 ', '98.96 ', '174.5 ', '308 ', '121.36 ', '138 ', '265 ',\n",
       "       '84 ', '321 ', '91.72 ', '65.3 ', '88.2 ', '93 ', '35.5 ',\n",
       "       '86.79 ', '157.7 ', '40.3 ', '91.7 ', '180 ', '114.4 ', '158.8 ',\n",
       "       '157.8 ', '123.7 ', '56.3 ', '189 ', '104 ', '210 ', '270.88 ',\n",
       "       '142 ', '255 ', '236 ', '167.7 ', '148.31 ', '80.46 ', '138.08 ',\n",
       "       '250 ', '74.9 ', '91.2 ', '102.57 ', '97.6 ', '102.53 ', '240 ',\n",
       "       '254 ', '112.4 ', '73.74 ', '108.495 ', '116.9 ', '101 ', '320 ',\n",
       "       '70.02 ', '261.49 ', '105.5 ', '550 ', '168.7 ', '55.23 ',\n",
       "       '94.68 ', '152.88 ', '163.2 ', '203.2 ', '241 ', '95 ', '200 ',\n",
       "       '271.23 ', '63.12 ', '85.7 ', '308.43 ', '118.6 ', '199.3 ',\n",
       "       '83.83 ', '55 ', '83 ', '300 ', '201 ', '262.6 ', '163 ', '58.33 ',\n",
       "       '86.76 ', '76.9 ', '174.57 ', '301.73 ', '68.1 ', '162 ', '394.3 ',\n",
       "       '80.9 ', '147.5 ', '272 ', '340 ', '120.33 ', '82.4 ', '231.1 ',\n",
       "       '335.3 ', '333 ', '198.25 ', '224.34 ', '402 ', '261 ', '61 ',\n",
       "       '144 ', '71.01 ', '271.72 ', '134 ', '135.1 ', '92 ', '64.08 ',\n",
       "       '261.5 ', '123.37 ', '175.67 ', '53 ', '110.5 ', '178.4 ',\n",
       "       '193.1 ', '41 ', '395 ', '48.21 ', '450 ', '421 ', '89.75 ',\n",
       "       '387.3 ', '130.3 ', '281.61 ', '52.8 ', '139.01 ', '208 ', '503 ',\n",
       "       '168 ', '98.82 ', '139.07 ', '83.11 ', '74.93 ', '382 ', '74.96 ',\n",
       "       '552 ', '127 ', '560 ', '116.4 ', '161.6 ', '488.1 ', '103 ',\n",
       "       '181.04 '], dtype=object)"
      ]
     },
     "execution_count": 16,
     "metadata": {},
     "output_type": "execute_result"
    }
   ],
   "source": [
    "car['Power'].unique()"
   ]
  },
  {
   "cell_type": "code",
   "execution_count": 17,
   "metadata": {},
   "outputs": [],
   "source": [
    "car['Mileage'] = pd.to_numeric(car['Mileage'], errors='coerce')\n",
    "car['Engine'] = pd.to_numeric(car['Engine'], errors='coerce')\n",
    "car['Power'] = pd.to_numeric(car['Power'], errors='coerce')"
   ]
  },
  {
   "cell_type": "markdown",
   "metadata": {},
   "source": [
    "Removing null values from these 3 columns:"
   ]
  },
  {
   "cell_type": "code",
   "execution_count": 18,
   "metadata": {},
   "outputs": [
    {
     "data": {
      "text/plain": [
       "0    17.0\n",
       "dtype: float64"
      ]
     },
     "execution_count": 18,
     "metadata": {},
     "output_type": "execute_result"
    }
   ],
   "source": [
    "car['Mileage'].mode()"
   ]
  },
  {
   "cell_type": "code",
   "execution_count": 19,
   "metadata": {},
   "outputs": [],
   "source": [
    "car['Mileage'].fillna(value=17.0,inplace=True)"
   ]
  },
  {
   "cell_type": "code",
   "execution_count": 20,
   "metadata": {},
   "outputs": [
    {
     "data": {
      "text/plain": [
       "0    1197.0\n",
       "dtype: float64"
      ]
     },
     "execution_count": 20,
     "metadata": {},
     "output_type": "execute_result"
    }
   ],
   "source": [
    "car['Engine'].mode()"
   ]
  },
  {
   "cell_type": "code",
   "execution_count": 21,
   "metadata": {},
   "outputs": [],
   "source": [
    "car['Engine'].fillna(value=1197.0,inplace=True)"
   ]
  },
  {
   "cell_type": "code",
   "execution_count": 22,
   "metadata": {},
   "outputs": [
    {
     "data": {
      "text/plain": [
       "0    74.0\n",
       "dtype: float64"
      ]
     },
     "execution_count": 22,
     "metadata": {},
     "output_type": "execute_result"
    }
   ],
   "source": [
    "car['Power'].mode()"
   ]
  },
  {
   "cell_type": "code",
   "execution_count": 23,
   "metadata": {},
   "outputs": [],
   "source": [
    "car['Power'].fillna(value = 74.0, inplace = True)"
   ]
  },
  {
   "cell_type": "markdown",
   "metadata": {},
   "source": [
    "Now we have null value only in New_Price column:"
   ]
  },
  {
   "cell_type": "code",
   "execution_count": 24,
   "metadata": {},
   "outputs": [
    {
     "data": {
      "text/plain": [
       "Unnamed: 0              0\n",
       "Name                    0\n",
       "Location                0\n",
       "Year                    0\n",
       "Kilometers_Driven       0\n",
       "Fuel_Type               0\n",
       "Transmission            0\n",
       "Owner_Type              0\n",
       "Mileage                 0\n",
       "Engine                  0\n",
       "Power                   0\n",
       "Seats                   0\n",
       "New_Price            5195\n",
       "Price                   0\n",
       "dtype: int64"
      ]
     },
     "execution_count": 24,
     "metadata": {},
     "output_type": "execute_result"
    }
   ],
   "source": [
    "car.isnull().sum()"
   ]
  },
  {
   "cell_type": "markdown",
   "metadata": {},
   "source": [
    "Sincethe New_Price has so many null values, we will not use this column for prediction"
   ]
  },
  {
   "cell_type": "markdown",
   "metadata": {},
   "source": [
    "### Feature Engineering:\n",
    "Adding a new column in our data frame.\n",
    "Checking for unique values in the ‘Name’ column:"
   ]
  },
  {
   "cell_type": "code",
   "execution_count": 25,
   "metadata": {},
   "outputs": [
    {
     "data": {
      "text/plain": [
       "1876"
      ]
     },
     "execution_count": 25,
     "metadata": {},
     "output_type": "execute_result"
    }
   ],
   "source": [
    "car['Name'].nunique() #returns the number of unique elements"
   ]
  },
  {
   "cell_type": "markdown",
   "metadata": {},
   "source": [
    "The ‘Name’ column has so many values so we will separate the brand names from the column and create a new column ‘Brand_Name’."
   ]
  },
  {
   "cell_type": "code",
   "execution_count": 26,
   "metadata": {},
   "outputs": [
    {
     "data": {
      "text/html": [
       "<div>\n",
       "<style scoped>\n",
       "    .dataframe tbody tr th:only-of-type {\n",
       "        vertical-align: middle;\n",
       "    }\n",
       "\n",
       "    .dataframe tbody tr th {\n",
       "        vertical-align: top;\n",
       "    }\n",
       "\n",
       "    .dataframe thead th {\n",
       "        text-align: right;\n",
       "    }\n",
       "</style>\n",
       "<table border=\"1\" class=\"dataframe\">\n",
       "  <thead>\n",
       "    <tr style=\"text-align: right;\">\n",
       "      <th></th>\n",
       "      <th>Unnamed: 0</th>\n",
       "      <th>Name</th>\n",
       "      <th>Location</th>\n",
       "      <th>Year</th>\n",
       "      <th>Kilometers_Driven</th>\n",
       "      <th>Fuel_Type</th>\n",
       "      <th>Transmission</th>\n",
       "      <th>Owner_Type</th>\n",
       "      <th>Mileage</th>\n",
       "      <th>Engine</th>\n",
       "      <th>Power</th>\n",
       "      <th>Seats</th>\n",
       "      <th>New_Price</th>\n",
       "      <th>Price</th>\n",
       "      <th>Brand_Name</th>\n",
       "    </tr>\n",
       "    <tr>\n",
       "      <th>Brand_Name</th>\n",
       "      <th></th>\n",
       "      <th></th>\n",
       "      <th></th>\n",
       "      <th></th>\n",
       "      <th></th>\n",
       "      <th></th>\n",
       "      <th></th>\n",
       "      <th></th>\n",
       "      <th></th>\n",
       "      <th></th>\n",
       "      <th></th>\n",
       "      <th></th>\n",
       "      <th></th>\n",
       "      <th></th>\n",
       "      <th></th>\n",
       "    </tr>\n",
       "  </thead>\n",
       "  <tbody>\n",
       "    <tr>\n",
       "      <th>Ambassador</th>\n",
       "      <td>1</td>\n",
       "      <td>1</td>\n",
       "      <td>1</td>\n",
       "      <td>1</td>\n",
       "      <td>1</td>\n",
       "      <td>1</td>\n",
       "      <td>1</td>\n",
       "      <td>1</td>\n",
       "      <td>1</td>\n",
       "      <td>1</td>\n",
       "      <td>1</td>\n",
       "      <td>1</td>\n",
       "      <td>0</td>\n",
       "      <td>1</td>\n",
       "      <td>1</td>\n",
       "    </tr>\n",
       "    <tr>\n",
       "      <th>Audi</th>\n",
       "      <td>236</td>\n",
       "      <td>69</td>\n",
       "      <td>11</td>\n",
       "      <td>12</td>\n",
       "      <td>180</td>\n",
       "      <td>2</td>\n",
       "      <td>1</td>\n",
       "      <td>3</td>\n",
       "      <td>38</td>\n",
       "      <td>11</td>\n",
       "      <td>29</td>\n",
       "      <td>5</td>\n",
       "      <td>19</td>\n",
       "      <td>166</td>\n",
       "      <td>1</td>\n",
       "    </tr>\n",
       "    <tr>\n",
       "      <th>BMW</th>\n",
       "      <td>267</td>\n",
       "      <td>87</td>\n",
       "      <td>11</td>\n",
       "      <td>14</td>\n",
       "      <td>190</td>\n",
       "      <td>2</td>\n",
       "      <td>1</td>\n",
       "      <td>3</td>\n",
       "      <td>46</td>\n",
       "      <td>9</td>\n",
       "      <td>26</td>\n",
       "      <td>4</td>\n",
       "      <td>30</td>\n",
       "      <td>182</td>\n",
       "      <td>1</td>\n",
       "    </tr>\n",
       "    <tr>\n",
       "      <th>Bentley</th>\n",
       "      <td>1</td>\n",
       "      <td>1</td>\n",
       "      <td>1</td>\n",
       "      <td>1</td>\n",
       "      <td>1</td>\n",
       "      <td>1</td>\n",
       "      <td>1</td>\n",
       "      <td>1</td>\n",
       "      <td>1</td>\n",
       "      <td>1</td>\n",
       "      <td>1</td>\n",
       "      <td>1</td>\n",
       "      <td>0</td>\n",
       "      <td>1</td>\n",
       "      <td>1</td>\n",
       "    </tr>\n",
       "    <tr>\n",
       "      <th>Chevrolet</th>\n",
       "      <td>121</td>\n",
       "      <td>43</td>\n",
       "      <td>11</td>\n",
       "      <td>15</td>\n",
       "      <td>107</td>\n",
       "      <td>2</td>\n",
       "      <td>2</td>\n",
       "      <td>3</td>\n",
       "      <td>25</td>\n",
       "      <td>11</td>\n",
       "      <td>25</td>\n",
       "      <td>6</td>\n",
       "      <td>0</td>\n",
       "      <td>80</td>\n",
       "      <td>1</td>\n",
       "    </tr>\n",
       "    <tr>\n",
       "      <th>Datsun</th>\n",
       "      <td>13</td>\n",
       "      <td>9</td>\n",
       "      <td>7</td>\n",
       "      <td>3</td>\n",
       "      <td>12</td>\n",
       "      <td>1</td>\n",
       "      <td>1</td>\n",
       "      <td>1</td>\n",
       "      <td>5</td>\n",
       "      <td>2</td>\n",
       "      <td>4</td>\n",
       "      <td>2</td>\n",
       "      <td>6</td>\n",
       "      <td>12</td>\n",
       "      <td>1</td>\n",
       "    </tr>\n",
       "    <tr>\n",
       "      <th>Fiat</th>\n",
       "      <td>28</td>\n",
       "      <td>20</td>\n",
       "      <td>9</td>\n",
       "      <td>11</td>\n",
       "      <td>26</td>\n",
       "      <td>2</td>\n",
       "      <td>1</td>\n",
       "      <td>3</td>\n",
       "      <td>12</td>\n",
       "      <td>5</td>\n",
       "      <td>13</td>\n",
       "      <td>1</td>\n",
       "      <td>1</td>\n",
       "      <td>23</td>\n",
       "      <td>1</td>\n",
       "    </tr>\n",
       "    <tr>\n",
       "      <th>Force</th>\n",
       "      <td>3</td>\n",
       "      <td>2</td>\n",
       "      <td>2</td>\n",
       "      <td>1</td>\n",
       "      <td>2</td>\n",
       "      <td>1</td>\n",
       "      <td>1</td>\n",
       "      <td>1</td>\n",
       "      <td>1</td>\n",
       "      <td>2</td>\n",
       "      <td>2</td>\n",
       "      <td>1</td>\n",
       "      <td>0</td>\n",
       "      <td>2</td>\n",
       "      <td>1</td>\n",
       "    </tr>\n",
       "    <tr>\n",
       "      <th>Ford</th>\n",
       "      <td>300</td>\n",
       "      <td>114</td>\n",
       "      <td>11</td>\n",
       "      <td>17</td>\n",
       "      <td>237</td>\n",
       "      <td>2</td>\n",
       "      <td>2</td>\n",
       "      <td>4</td>\n",
       "      <td>40</td>\n",
       "      <td>16</td>\n",
       "      <td>33</td>\n",
       "      <td>3</td>\n",
       "      <td>21</td>\n",
       "      <td>178</td>\n",
       "      <td>1</td>\n",
       "    </tr>\n",
       "    <tr>\n",
       "      <th>Honda</th>\n",
       "      <td>608</td>\n",
       "      <td>154</td>\n",
       "      <td>11</td>\n",
       "      <td>19</td>\n",
       "      <td>415</td>\n",
       "      <td>2</td>\n",
       "      <td>2</td>\n",
       "      <td>3</td>\n",
       "      <td>52</td>\n",
       "      <td>11</td>\n",
       "      <td>28</td>\n",
       "      <td>2</td>\n",
       "      <td>55</td>\n",
       "      <td>273</td>\n",
       "      <td>1</td>\n",
       "    </tr>\n",
       "    <tr>\n",
       "      <th>Hyundai</th>\n",
       "      <td>1107</td>\n",
       "      <td>272</td>\n",
       "      <td>11</td>\n",
       "      <td>19</td>\n",
       "      <td>713</td>\n",
       "      <td>4</td>\n",
       "      <td>2</td>\n",
       "      <td>4</td>\n",
       "      <td>73</td>\n",
       "      <td>21</td>\n",
       "      <td>49</td>\n",
       "      <td>2</td>\n",
       "      <td>67</td>\n",
       "      <td>439</td>\n",
       "      <td>1</td>\n",
       "    </tr>\n",
       "    <tr>\n",
       "      <th>ISUZU</th>\n",
       "      <td>2</td>\n",
       "      <td>1</td>\n",
       "      <td>2</td>\n",
       "      <td>2</td>\n",
       "      <td>2</td>\n",
       "      <td>1</td>\n",
       "      <td>1</td>\n",
       "      <td>1</td>\n",
       "      <td>1</td>\n",
       "      <td>1</td>\n",
       "      <td>1</td>\n",
       "      <td>1</td>\n",
       "      <td>0</td>\n",
       "      <td>2</td>\n",
       "      <td>1</td>\n",
       "    </tr>\n",
       "    <tr>\n",
       "      <th>Isuzu</th>\n",
       "      <td>1</td>\n",
       "      <td>1</td>\n",
       "      <td>1</td>\n",
       "      <td>1</td>\n",
       "      <td>1</td>\n",
       "      <td>1</td>\n",
       "      <td>1</td>\n",
       "      <td>1</td>\n",
       "      <td>1</td>\n",
       "      <td>1</td>\n",
       "      <td>1</td>\n",
       "      <td>1</td>\n",
       "      <td>1</td>\n",
       "      <td>1</td>\n",
       "      <td>1</td>\n",
       "    </tr>\n",
       "    <tr>\n",
       "      <th>Jaguar</th>\n",
       "      <td>40</td>\n",
       "      <td>14</td>\n",
       "      <td>9</td>\n",
       "      <td>8</td>\n",
       "      <td>39</td>\n",
       "      <td>2</td>\n",
       "      <td>1</td>\n",
       "      <td>2</td>\n",
       "      <td>10</td>\n",
       "      <td>4</td>\n",
       "      <td>10</td>\n",
       "      <td>3</td>\n",
       "      <td>4</td>\n",
       "      <td>35</td>\n",
       "      <td>1</td>\n",
       "    </tr>\n",
       "    <tr>\n",
       "      <th>Jeep</th>\n",
       "      <td>15</td>\n",
       "      <td>7</td>\n",
       "      <td>7</td>\n",
       "      <td>3</td>\n",
       "      <td>15</td>\n",
       "      <td>2</td>\n",
       "      <td>2</td>\n",
       "      <td>1</td>\n",
       "      <td>3</td>\n",
       "      <td>2</td>\n",
       "      <td>2</td>\n",
       "      <td>1</td>\n",
       "      <td>13</td>\n",
       "      <td>14</td>\n",
       "      <td>1</td>\n",
       "    </tr>\n",
       "    <tr>\n",
       "      <th>Lamborghini</th>\n",
       "      <td>1</td>\n",
       "      <td>1</td>\n",
       "      <td>1</td>\n",
       "      <td>1</td>\n",
       "      <td>1</td>\n",
       "      <td>1</td>\n",
       "      <td>1</td>\n",
       "      <td>1</td>\n",
       "      <td>1</td>\n",
       "      <td>1</td>\n",
       "      <td>1</td>\n",
       "      <td>1</td>\n",
       "      <td>0</td>\n",
       "      <td>1</td>\n",
       "      <td>1</td>\n",
       "    </tr>\n",
       "    <tr>\n",
       "      <th>Land</th>\n",
       "      <td>60</td>\n",
       "      <td>31</td>\n",
       "      <td>10</td>\n",
       "      <td>12</td>\n",
       "      <td>54</td>\n",
       "      <td>2</td>\n",
       "      <td>2</td>\n",
       "      <td>2</td>\n",
       "      <td>17</td>\n",
       "      <td>6</td>\n",
       "      <td>14</td>\n",
       "      <td>3</td>\n",
       "      <td>9</td>\n",
       "      <td>56</td>\n",
       "      <td>1</td>\n",
       "    </tr>\n",
       "    <tr>\n",
       "      <th>Mahindra</th>\n",
       "      <td>272</td>\n",
       "      <td>113</td>\n",
       "      <td>11</td>\n",
       "      <td>17</td>\n",
       "      <td>218</td>\n",
       "      <td>3</td>\n",
       "      <td>2</td>\n",
       "      <td>3</td>\n",
       "      <td>30</td>\n",
       "      <td>14</td>\n",
       "      <td>23</td>\n",
       "      <td>5</td>\n",
       "      <td>19</td>\n",
       "      <td>184</td>\n",
       "      <td>1</td>\n",
       "    </tr>\n",
       "    <tr>\n",
       "      <th>Maruti</th>\n",
       "      <td>1211</td>\n",
       "      <td>295</td>\n",
       "      <td>11</td>\n",
       "      <td>22</td>\n",
       "      <td>771</td>\n",
       "      <td>4</td>\n",
       "      <td>2</td>\n",
       "      <td>4</td>\n",
       "      <td>81</td>\n",
       "      <td>17</td>\n",
       "      <td>52</td>\n",
       "      <td>4</td>\n",
       "      <td>135</td>\n",
       "      <td>397</td>\n",
       "      <td>1</td>\n",
       "    </tr>\n",
       "    <tr>\n",
       "      <th>Mercedes-Benz</th>\n",
       "      <td>318</td>\n",
       "      <td>110</td>\n",
       "      <td>11</td>\n",
       "      <td>19</td>\n",
       "      <td>231</td>\n",
       "      <td>2</td>\n",
       "      <td>2</td>\n",
       "      <td>3</td>\n",
       "      <td>43</td>\n",
       "      <td>15</td>\n",
       "      <td>48</td>\n",
       "      <td>4</td>\n",
       "      <td>30</td>\n",
       "      <td>219</td>\n",
       "      <td>1</td>\n",
       "    </tr>\n",
       "    <tr>\n",
       "      <th>Mini</th>\n",
       "      <td>26</td>\n",
       "      <td>11</td>\n",
       "      <td>11</td>\n",
       "      <td>8</td>\n",
       "      <td>24</td>\n",
       "      <td>2</td>\n",
       "      <td>2</td>\n",
       "      <td>2</td>\n",
       "      <td>8</td>\n",
       "      <td>3</td>\n",
       "      <td>6</td>\n",
       "      <td>2</td>\n",
       "      <td>9</td>\n",
       "      <td>20</td>\n",
       "      <td>1</td>\n",
       "    </tr>\n",
       "    <tr>\n",
       "      <th>Mitsubishi</th>\n",
       "      <td>27</td>\n",
       "      <td>16</td>\n",
       "      <td>10</td>\n",
       "      <td>13</td>\n",
       "      <td>26</td>\n",
       "      <td>2</td>\n",
       "      <td>2</td>\n",
       "      <td>3</td>\n",
       "      <td>8</td>\n",
       "      <td>7</td>\n",
       "      <td>10</td>\n",
       "      <td>3</td>\n",
       "      <td>5</td>\n",
       "      <td>25</td>\n",
       "      <td>1</td>\n",
       "    </tr>\n",
       "    <tr>\n",
       "      <th>Nissan</th>\n",
       "      <td>91</td>\n",
       "      <td>43</td>\n",
       "      <td>11</td>\n",
       "      <td>10</td>\n",
       "      <td>80</td>\n",
       "      <td>2</td>\n",
       "      <td>2</td>\n",
       "      <td>2</td>\n",
       "      <td>24</td>\n",
       "      <td>7</td>\n",
       "      <td>17</td>\n",
       "      <td>2</td>\n",
       "      <td>13</td>\n",
       "      <td>65</td>\n",
       "      <td>1</td>\n",
       "    </tr>\n",
       "    <tr>\n",
       "      <th>Porsche</th>\n",
       "      <td>18</td>\n",
       "      <td>13</td>\n",
       "      <td>7</td>\n",
       "      <td>8</td>\n",
       "      <td>18</td>\n",
       "      <td>2</td>\n",
       "      <td>2</td>\n",
       "      <td>3</td>\n",
       "      <td>12</td>\n",
       "      <td>6</td>\n",
       "      <td>11</td>\n",
       "      <td>3</td>\n",
       "      <td>1</td>\n",
       "      <td>16</td>\n",
       "      <td>1</td>\n",
       "    </tr>\n",
       "    <tr>\n",
       "      <th>Renault</th>\n",
       "      <td>145</td>\n",
       "      <td>41</td>\n",
       "      <td>11</td>\n",
       "      <td>9</td>\n",
       "      <td>118</td>\n",
       "      <td>2</td>\n",
       "      <td>2</td>\n",
       "      <td>2</td>\n",
       "      <td>25</td>\n",
       "      <td>8</td>\n",
       "      <td>16</td>\n",
       "      <td>2</td>\n",
       "      <td>19</td>\n",
       "      <td>94</td>\n",
       "      <td>1</td>\n",
       "    </tr>\n",
       "    <tr>\n",
       "      <th>Skoda</th>\n",
       "      <td>173</td>\n",
       "      <td>90</td>\n",
       "      <td>11</td>\n",
       "      <td>17</td>\n",
       "      <td>141</td>\n",
       "      <td>2</td>\n",
       "      <td>2</td>\n",
       "      <td>3</td>\n",
       "      <td>37</td>\n",
       "      <td>14</td>\n",
       "      <td>32</td>\n",
       "      <td>1</td>\n",
       "      <td>15</td>\n",
       "      <td>125</td>\n",
       "      <td>1</td>\n",
       "    </tr>\n",
       "    <tr>\n",
       "      <th>Smart</th>\n",
       "      <td>1</td>\n",
       "      <td>1</td>\n",
       "      <td>1</td>\n",
       "      <td>1</td>\n",
       "      <td>1</td>\n",
       "      <td>1</td>\n",
       "      <td>1</td>\n",
       "      <td>1</td>\n",
       "      <td>1</td>\n",
       "      <td>1</td>\n",
       "      <td>1</td>\n",
       "      <td>1</td>\n",
       "      <td>0</td>\n",
       "      <td>1</td>\n",
       "      <td>1</td>\n",
       "    </tr>\n",
       "    <tr>\n",
       "      <th>Tata</th>\n",
       "      <td>186</td>\n",
       "      <td>109</td>\n",
       "      <td>11</td>\n",
       "      <td>17</td>\n",
       "      <td>150</td>\n",
       "      <td>3</td>\n",
       "      <td>2</td>\n",
       "      <td>3</td>\n",
       "      <td>49</td>\n",
       "      <td>15</td>\n",
       "      <td>36</td>\n",
       "      <td>5</td>\n",
       "      <td>34</td>\n",
       "      <td>110</td>\n",
       "      <td>1</td>\n",
       "    </tr>\n",
       "    <tr>\n",
       "      <th>Toyota</th>\n",
       "      <td>411</td>\n",
       "      <td>117</td>\n",
       "      <td>11</td>\n",
       "      <td>19</td>\n",
       "      <td>307</td>\n",
       "      <td>4</td>\n",
       "      <td>2</td>\n",
       "      <td>4</td>\n",
       "      <td>29</td>\n",
       "      <td>14</td>\n",
       "      <td>34</td>\n",
       "      <td>4</td>\n",
       "      <td>57</td>\n",
       "      <td>250</td>\n",
       "      <td>1</td>\n",
       "    </tr>\n",
       "    <tr>\n",
       "      <th>Volkswagen</th>\n",
       "      <td>315</td>\n",
       "      <td>74</td>\n",
       "      <td>11</td>\n",
       "      <td>12</td>\n",
       "      <td>224</td>\n",
       "      <td>2</td>\n",
       "      <td>2</td>\n",
       "      <td>3</td>\n",
       "      <td>37</td>\n",
       "      <td>11</td>\n",
       "      <td>24</td>\n",
       "      <td>2</td>\n",
       "      <td>31</td>\n",
       "      <td>164</td>\n",
       "      <td>1</td>\n",
       "    </tr>\n",
       "    <tr>\n",
       "      <th>Volvo</th>\n",
       "      <td>21</td>\n",
       "      <td>16</td>\n",
       "      <td>9</td>\n",
       "      <td>8</td>\n",
       "      <td>20</td>\n",
       "      <td>1</td>\n",
       "      <td>2</td>\n",
       "      <td>2</td>\n",
       "      <td>12</td>\n",
       "      <td>4</td>\n",
       "      <td>6</td>\n",
       "      <td>2</td>\n",
       "      <td>2</td>\n",
       "      <td>18</td>\n",
       "      <td>1</td>\n",
       "    </tr>\n",
       "  </tbody>\n",
       "</table>\n",
       "</div>"
      ],
      "text/plain": [
       "               Unnamed: 0  Name  Location  Year  Kilometers_Driven  Fuel_Type  \\\n",
       "Brand_Name                                                                      \n",
       "Ambassador              1     1         1     1                  1          1   \n",
       "Audi                  236    69        11    12                180          2   \n",
       "BMW                   267    87        11    14                190          2   \n",
       "Bentley                 1     1         1     1                  1          1   \n",
       "Chevrolet             121    43        11    15                107          2   \n",
       "Datsun                 13     9         7     3                 12          1   \n",
       "Fiat                   28    20         9    11                 26          2   \n",
       "Force                   3     2         2     1                  2          1   \n",
       "Ford                  300   114        11    17                237          2   \n",
       "Honda                 608   154        11    19                415          2   \n",
       "Hyundai              1107   272        11    19                713          4   \n",
       "ISUZU                   2     1         2     2                  2          1   \n",
       "Isuzu                   1     1         1     1                  1          1   \n",
       "Jaguar                 40    14         9     8                 39          2   \n",
       "Jeep                   15     7         7     3                 15          2   \n",
       "Lamborghini             1     1         1     1                  1          1   \n",
       "Land                   60    31        10    12                 54          2   \n",
       "Mahindra              272   113        11    17                218          3   \n",
       "Maruti               1211   295        11    22                771          4   \n",
       "Mercedes-Benz         318   110        11    19                231          2   \n",
       "Mini                   26    11        11     8                 24          2   \n",
       "Mitsubishi             27    16        10    13                 26          2   \n",
       "Nissan                 91    43        11    10                 80          2   \n",
       "Porsche                18    13         7     8                 18          2   \n",
       "Renault               145    41        11     9                118          2   \n",
       "Skoda                 173    90        11    17                141          2   \n",
       "Smart                   1     1         1     1                  1          1   \n",
       "Tata                  186   109        11    17                150          3   \n",
       "Toyota                411   117        11    19                307          4   \n",
       "Volkswagen            315    74        11    12                224          2   \n",
       "Volvo                  21    16         9     8                 20          1   \n",
       "\n",
       "               Transmission  Owner_Type  Mileage  Engine  Power  Seats  \\\n",
       "Brand_Name                                                               \n",
       "Ambassador                1           1        1       1      1      1   \n",
       "Audi                      1           3       38      11     29      5   \n",
       "BMW                       1           3       46       9     26      4   \n",
       "Bentley                   1           1        1       1      1      1   \n",
       "Chevrolet                 2           3       25      11     25      6   \n",
       "Datsun                    1           1        5       2      4      2   \n",
       "Fiat                      1           3       12       5     13      1   \n",
       "Force                     1           1        1       2      2      1   \n",
       "Ford                      2           4       40      16     33      3   \n",
       "Honda                     2           3       52      11     28      2   \n",
       "Hyundai                   2           4       73      21     49      2   \n",
       "ISUZU                     1           1        1       1      1      1   \n",
       "Isuzu                     1           1        1       1      1      1   \n",
       "Jaguar                    1           2       10       4     10      3   \n",
       "Jeep                      2           1        3       2      2      1   \n",
       "Lamborghini               1           1        1       1      1      1   \n",
       "Land                      2           2       17       6     14      3   \n",
       "Mahindra                  2           3       30      14     23      5   \n",
       "Maruti                    2           4       81      17     52      4   \n",
       "Mercedes-Benz             2           3       43      15     48      4   \n",
       "Mini                      2           2        8       3      6      2   \n",
       "Mitsubishi                2           3        8       7     10      3   \n",
       "Nissan                    2           2       24       7     17      2   \n",
       "Porsche                   2           3       12       6     11      3   \n",
       "Renault                   2           2       25       8     16      2   \n",
       "Skoda                     2           3       37      14     32      1   \n",
       "Smart                     1           1        1       1      1      1   \n",
       "Tata                      2           3       49      15     36      5   \n",
       "Toyota                    2           4       29      14     34      4   \n",
       "Volkswagen                2           3       37      11     24      2   \n",
       "Volvo                     2           2       12       4      6      2   \n",
       "\n",
       "               New_Price  Price  Brand_Name  \n",
       "Brand_Name                                   \n",
       "Ambassador             0      1           1  \n",
       "Audi                  19    166           1  \n",
       "BMW                   30    182           1  \n",
       "Bentley                0      1           1  \n",
       "Chevrolet              0     80           1  \n",
       "Datsun                 6     12           1  \n",
       "Fiat                   1     23           1  \n",
       "Force                  0      2           1  \n",
       "Ford                  21    178           1  \n",
       "Honda                 55    273           1  \n",
       "Hyundai               67    439           1  \n",
       "ISUZU                  0      2           1  \n",
       "Isuzu                  1      1           1  \n",
       "Jaguar                 4     35           1  \n",
       "Jeep                  13     14           1  \n",
       "Lamborghini            0      1           1  \n",
       "Land                   9     56           1  \n",
       "Mahindra              19    184           1  \n",
       "Maruti               135    397           1  \n",
       "Mercedes-Benz         30    219           1  \n",
       "Mini                   9     20           1  \n",
       "Mitsubishi             5     25           1  \n",
       "Nissan                13     65           1  \n",
       "Porsche                1     16           1  \n",
       "Renault               19     94           1  \n",
       "Skoda                 15    125           1  \n",
       "Smart                  0      1           1  \n",
       "Tata                  34    110           1  \n",
       "Toyota                57    250           1  \n",
       "Volkswagen            31    164           1  \n",
       "Volvo                  2     18           1  "
      ]
     },
     "execution_count": 26,
     "metadata": {},
     "output_type": "execute_result"
    }
   ],
   "source": [
    "car['Brand_Name'] = car['Name'].str.split(' ').str[0]\n",
    "car.groupby('Brand_Name').nunique()"
   ]
  },
  {
   "cell_type": "markdown",
   "metadata": {},
   "source": [
    "Unique values of new column ‘Brand_Name’"
   ]
  },
  {
   "cell_type": "code",
   "execution_count": 27,
   "metadata": {},
   "outputs": [
    {
     "data": {
      "text/plain": [
       "array(['Maruti', 'Hyundai', 'Honda', 'Audi', 'Nissan', 'Toyota',\n",
       "       'Volkswagen', 'Tata', 'Land', 'Mitsubishi', 'Renault',\n",
       "       'Mercedes-Benz', 'BMW', 'Mahindra', 'Ford', 'Porsche', 'Datsun',\n",
       "       'Jaguar', 'Volvo', 'Chevrolet', 'Skoda', 'Mini', 'Fiat', 'Jeep',\n",
       "       'Smart', 'Ambassador', 'Isuzu', 'ISUZU', 'Force', 'Bentley',\n",
       "       'Lamborghini'], dtype=object)"
      ]
     },
     "execution_count": 27,
     "metadata": {},
     "output_type": "execute_result"
    }
   ],
   "source": [
    "car['Brand_Name'].unique()"
   ]
  },
  {
   "cell_type": "code",
   "execution_count": 28,
   "metadata": {},
   "outputs": [
    {
     "name": "stderr",
     "output_type": "stream",
     "text": [
      "<ipython-input-28-e0995657d9a3>:2: SettingWithCopyWarning: \n",
      "A value is trying to be set on a copy of a slice from a DataFrame\n",
      "\n",
      "See the caveats in the documentation: https://pandas.pydata.org/pandas-docs/stable/user_guide/indexing.html#returning-a-view-versus-a-copy\n",
      "  car.Brand_Name[car.Brand_Name=='Isuzu']='ISUZU'\n"
     ]
    }
   ],
   "source": [
    "#merging Isuzu and ISUZU\n",
    "car.Brand_Name[car.Brand_Name=='Isuzu']='ISUZU'"
   ]
  },
  {
   "cell_type": "markdown",
   "metadata": {},
   "source": [
    "Creating a new data frame that we will use for analysis:"
   ]
  },
  {
   "cell_type": "code",
   "execution_count": 29,
   "metadata": {},
   "outputs": [],
   "source": [
    "#dropping the Name ,Location and new_price column\n",
    "car_df=car.drop([\"Name\",\"Location\",\"New_Price\"],axis='columns')"
   ]
  },
  {
   "cell_type": "code",
   "execution_count": 30,
   "metadata": {},
   "outputs": [
    {
     "data": {
      "text/html": [
       "<div>\n",
       "<style scoped>\n",
       "    .dataframe tbody tr th:only-of-type {\n",
       "        vertical-align: middle;\n",
       "    }\n",
       "\n",
       "    .dataframe tbody tr th {\n",
       "        vertical-align: top;\n",
       "    }\n",
       "\n",
       "    .dataframe thead th {\n",
       "        text-align: right;\n",
       "    }\n",
       "</style>\n",
       "<table border=\"1\" class=\"dataframe\">\n",
       "  <thead>\n",
       "    <tr style=\"text-align: right;\">\n",
       "      <th></th>\n",
       "      <th>Unnamed: 0</th>\n",
       "      <th>Year</th>\n",
       "      <th>Kilometers_Driven</th>\n",
       "      <th>Fuel_Type</th>\n",
       "      <th>Transmission</th>\n",
       "      <th>Owner_Type</th>\n",
       "      <th>Mileage</th>\n",
       "      <th>Engine</th>\n",
       "      <th>Power</th>\n",
       "      <th>Seats</th>\n",
       "      <th>Price</th>\n",
       "      <th>Brand_Name</th>\n",
       "    </tr>\n",
       "  </thead>\n",
       "  <tbody>\n",
       "    <tr>\n",
       "      <th>0</th>\n",
       "      <td>0</td>\n",
       "      <td>2010</td>\n",
       "      <td>72000</td>\n",
       "      <td>CNG</td>\n",
       "      <td>Manual</td>\n",
       "      <td>First</td>\n",
       "      <td>26.60</td>\n",
       "      <td>998.0</td>\n",
       "      <td>58.16</td>\n",
       "      <td>5.0</td>\n",
       "      <td>1.75</td>\n",
       "      <td>Maruti</td>\n",
       "    </tr>\n",
       "    <tr>\n",
       "      <th>1</th>\n",
       "      <td>1</td>\n",
       "      <td>2015</td>\n",
       "      <td>41000</td>\n",
       "      <td>Diesel</td>\n",
       "      <td>Manual</td>\n",
       "      <td>First</td>\n",
       "      <td>19.67</td>\n",
       "      <td>1582.0</td>\n",
       "      <td>126.20</td>\n",
       "      <td>5.0</td>\n",
       "      <td>12.50</td>\n",
       "      <td>Hyundai</td>\n",
       "    </tr>\n",
       "    <tr>\n",
       "      <th>2</th>\n",
       "      <td>2</td>\n",
       "      <td>2011</td>\n",
       "      <td>46000</td>\n",
       "      <td>Petrol</td>\n",
       "      <td>Manual</td>\n",
       "      <td>First</td>\n",
       "      <td>18.20</td>\n",
       "      <td>1199.0</td>\n",
       "      <td>88.70</td>\n",
       "      <td>5.0</td>\n",
       "      <td>4.50</td>\n",
       "      <td>Honda</td>\n",
       "    </tr>\n",
       "    <tr>\n",
       "      <th>3</th>\n",
       "      <td>3</td>\n",
       "      <td>2012</td>\n",
       "      <td>87000</td>\n",
       "      <td>Diesel</td>\n",
       "      <td>Manual</td>\n",
       "      <td>First</td>\n",
       "      <td>20.77</td>\n",
       "      <td>1248.0</td>\n",
       "      <td>88.76</td>\n",
       "      <td>7.0</td>\n",
       "      <td>6.00</td>\n",
       "      <td>Maruti</td>\n",
       "    </tr>\n",
       "    <tr>\n",
       "      <th>4</th>\n",
       "      <td>4</td>\n",
       "      <td>2013</td>\n",
       "      <td>40670</td>\n",
       "      <td>Diesel</td>\n",
       "      <td>Automatic</td>\n",
       "      <td>Second</td>\n",
       "      <td>15.20</td>\n",
       "      <td>1968.0</td>\n",
       "      <td>140.80</td>\n",
       "      <td>5.0</td>\n",
       "      <td>17.74</td>\n",
       "      <td>Audi</td>\n",
       "    </tr>\n",
       "  </tbody>\n",
       "</table>\n",
       "</div>"
      ],
      "text/plain": [
       "   Unnamed: 0  Year  Kilometers_Driven Fuel_Type Transmission Owner_Type  \\\n",
       "0           0  2010              72000       CNG       Manual      First   \n",
       "1           1  2015              41000    Diesel       Manual      First   \n",
       "2           2  2011              46000    Petrol       Manual      First   \n",
       "3           3  2012              87000    Diesel       Manual      First   \n",
       "4           4  2013              40670    Diesel    Automatic     Second   \n",
       "\n",
       "   Mileage  Engine   Power  Seats  Price Brand_Name  \n",
       "0    26.60   998.0   58.16    5.0   1.75     Maruti  \n",
       "1    19.67  1582.0  126.20    5.0  12.50    Hyundai  \n",
       "2    18.20  1199.0   88.70    5.0   4.50      Honda  \n",
       "3    20.77  1248.0   88.76    7.0   6.00     Maruti  \n",
       "4    15.20  1968.0  140.80    5.0  17.74       Audi  "
      ]
     },
     "execution_count": 30,
     "metadata": {},
     "output_type": "execute_result"
    }
   ],
   "source": [
    "car_df.head(5)"
   ]
  },
  {
   "cell_type": "code",
   "execution_count": 31,
   "metadata": {},
   "outputs": [
    {
     "data": {
      "image/png": "[encoded data removed]",
      "text/plain": [
       "<Figure size 432x288 with 2 Axes>"
      ]
     },
     "metadata": {
      "needs_background": "light"
     },
     "output_type": "display_data"
    }
   ],
   "source": [
    "#Visualising whether our data has null values or not\n",
    "sns.heatmap(car_df.isnull())\n",
    "plt.show()"
   ]
  },
  {
   "cell_type": "markdown",
   "metadata": {},
   "source": [
    "## Data Analysis:"
   ]
  },
  {
   "cell_type": "code",
   "execution_count": 32,
   "metadata": {},
   "outputs": [
    {
     "data": {
      "text/plain": [
       "<matplotlib.axes._subplots.AxesSubplot at 0x23d8fa83730>"
      ]
     },
     "execution_count": 32,
     "metadata": {},
     "output_type": "execute_result"
    },
    {
     "data": {
      "image/png": "[encoded data removed]",
      "text/plain": [
       "<Figure size 1440x576 with 1 Axes>"
      ]
     },
     "metadata": {
      "needs_background": "light"
     },
     "output_type": "display_data"
    }
   ],
   "source": [
    "plt.figure(figsize=(20,8))\n",
    "sns.distplot(car_df['Price'])"
   ]
  },
  {
   "cell_type": "markdown",
   "metadata": {},
   "source": [
    "### Analysis with respect to the number of cars:\n",
    "\n",
    "###### Brand_Name vs Car count"
   ]
  },
  {
   "cell_type": "code",
   "execution_count": 33,
   "metadata": {},
   "outputs": [
    {
     "data": {
      "image/png": "[encoded data removed]",
      "text/plain": [
       "<Figure size 432x288 with 1 Axes>"
      ]
     },
     "metadata": {
      "needs_background": "light"
     },
     "output_type": "display_data"
    }
   ],
   "source": [
    "plt.xlabel('Brand_Name')\n",
    "plt.ylabel('Count of car')\n",
    "car_df['Brand_Name'].value_counts().plot(kind='bar',title='Bar vs Car count', color = '#C0392B')\n",
    "plt.grid(color='black',linestyle='-.', linewidth = 0.7)"
   ]
  },
  {
   "cell_type": "markdown",
   "metadata": {},
   "source": [
    "###### Year vs Car Count:"
   ]
  },
  {
   "cell_type": "code",
   "execution_count": 34,
   "metadata": {},
   "outputs": [
    {
     "data": {
      "image/png": "[encoded data removed]",
      "text/plain": [
       "<Figure size 432x288 with 1 Axes>"
      ]
     },
     "metadata": {
      "needs_background": "light"
     },
     "output_type": "display_data"
    }
   ],
   "source": [
    "plt.xlabel('Year')\n",
    "plt.ylabel('Count of car')\n",
    "car_df['Year'].value_counts().plot(kind='bar',title='Year vs Car count', color = '#0E6251')\n",
    "plt.grid(color='black',linestyle='-.',linewidth=0.8)"
   ]
  },
  {
   "cell_type": "markdown",
   "metadata": {},
   "source": [
    "###### Analysis of other features with respect to car count."
   ]
  },
  {
   "cell_type": "code",
   "execution_count": 35,
   "metadata": {},
   "outputs": [
    {
     "data": {
      "image/png": "[encoded data removed]",
      "text/plain": [
       "<Figure size 432x288 with 1 Axes>"
      ]
     },
     "metadata": {
      "needs_background": "light"
     },
     "output_type": "display_data"
    }
   ],
   "source": [
    "#fuel-type\n",
    "plt.xlabel(\"Fuel_Type\")\n",
    "plt.ylabel(\"Count of car\")\n",
    "car_df['Fuel_Type'].value_counts().plot(kind='bar', title='Fuel_Type vs car count',color='black')\n",
    "plt.grid(linestyle='-.')\n"
   ]
  },
  {
   "cell_type": "code",
   "execution_count": 36,
   "metadata": {},
   "outputs": [
    {
     "data": {
      "image/png": "[encoded data removed]",
      "text/plain": [
       "<Figure size 432x288 with 1 Axes>"
      ]
     },
     "metadata": {
      "needs_background": "light"
     },
     "output_type": "display_data"
    }
   ],
   "source": [
    "#Transmission\n",
    "plt.xlabel(\"Transmission\")\n",
    "plt.ylabel(\"Count of car\")\n",
    "car_df['Transmission'].value_counts().plot(kind='bar',title='Transmission vs car count',color='#C0392B')\n",
    "plt.grid(linestyle='-.')\n"
   ]
  },
  {
   "cell_type": "code",
   "execution_count": 37,
   "metadata": {},
   "outputs": [
    {
     "data": {
      "image/png": "[encoded data removed]",
      "text/plain": [
       "<Figure size 432x288 with 1 Axes>"
      ]
     },
     "metadata": {
      "needs_background": "light"
     },
     "output_type": "display_data"
    }
   ],
   "source": [
    "#owner type\n",
    "plt.xlabel(\"Owner_Type\")\n",
    "plt.ylabel(\"Count of car\")\n",
    "car_df['Owner_Type'].value_counts().plot(kind='bar',title='Owner_Type vs car count',color='#1B4F72')\n",
    "plt.grid(linestyle='-.')\n"
   ]
  },
  {
   "cell_type": "code",
   "execution_count": 38,
   "metadata": {},
   "outputs": [
    {
     "data": {
      "image/png": "[encoded data removed]",
      "text/plain": [
       "<Figure size 432x288 with 1 Axes>"
      ]
     },
     "metadata": {
      "needs_background": "light"
     },
     "output_type": "display_data"
    }
   ],
   "source": [
    "#seats\n",
    "plt.xlabel(\"No of seats\")\n",
    "plt.ylabel(\"Count of car\")\n",
    "car_df['Seats'].value_counts().plot(kind='bar',title='Number of seats vs car count',color='cyan')\n",
    "plt.grid(linestyle='-.')"
   ]
  },
  {
   "cell_type": "markdown",
   "metadata": {},
   "source": [
    "###### Conclusion of the above features :\n",
    "\n",
    "   - Maximum cars are of petrol and diesel type.\n",
    "   - Manual cars are more than Automatic cars.\n",
    "   - First-hand cars are maximum followed by second.\n",
    "   - Cars with 5 seats are dominant."
   ]
  },
  {
   "cell_type": "markdown",
   "metadata": {},
   "source": [
    "###### Analysis with respect to Price:\n",
    "\n",
    "Brand_Name vs Price:"
   ]
  },
  {
   "cell_type": "code",
   "execution_count": 39,
   "metadata": {},
   "outputs": [
    {
     "data": {
      "image/png": "[encoded data removed]",
      "text/plain": [
       "<Figure size 792x360 with 1 Axes>"
      ]
     },
     "metadata": {
      "needs_background": "light"
     },
     "output_type": "display_data"
    }
   ],
   "source": [
    "BrandVsPrice = pd.DataFrame(car_df.groupby('Brand_Name')['Price'].mean())\n",
    "BrandVsPrice.plot.bar(color='tomato',figsize=(11,5))\n",
    "plt.grid(linestyle='-.')\n",
    "plt.show()"
   ]
  },
  {
   "cell_type": "code",
   "execution_count": 40,
   "metadata": {},
   "outputs": [
    {
     "name": "stdout",
     "output_type": "stream",
     "text": [
      "<class 'pandas.core.frame.DataFrame'>\n",
      "RangeIndex: 6019 entries, 0 to 6018\n",
      "Data columns (total 12 columns):\n",
      " #   Column             Non-Null Count  Dtype  \n",
      "---  ------             --------------  -----  \n",
      " 0   Unnamed: 0         6019 non-null   int64  \n",
      " 1   Year               6019 non-null   int64  \n",
      " 2   Kilometers_Driven  6019 non-null   int64  \n",
      " 3   Fuel_Type          6019 non-null   object \n",
      " 4   Transmission       6019 non-null   object \n",
      " 5   Owner_Type         6019 non-null   object \n",
      " 6   Mileage            6019 non-null   float64\n",
      " 7   Engine             6019 non-null   float64\n",
      " 8   Power              6019 non-null   float64\n",
      " 9   Seats              6019 non-null   float64\n",
      " 10  Price              6019 non-null   float64\n",
      " 11  Brand_Name         6019 non-null   object \n",
      "dtypes: float64(5), int64(3), object(4)\n",
      "memory usage: 564.4+ KB\n"
     ]
    }
   ],
   "source": [
    "car_df.info()"
   ]
  },
  {
   "cell_type": "markdown",
   "metadata": {},
   "source": [
    "###### Analysis of other features with respect to Price:"
   ]
  },
  {
   "cell_type": "code",
   "execution_count": 41,
   "metadata": {},
   "outputs": [
    {
     "data": {
      "text/plain": [
       "<matplotlib.collections.PathCollection at 0x23d8fbd58e0>"
      ]
     },
     "execution_count": 41,
     "metadata": {},
     "output_type": "execute_result"
    },
    {
     "data": {
      "image/png": "[encoded data removed]",
      "text/plain": [
       "<Figure size 432x288 with 1 Axes>"
      ]
     },
     "metadata": {
      "needs_background": "light"
     },
     "output_type": "display_data"
    }
   ],
   "source": [
    "#year vs price\n",
    "plt.title(\"Year vs Price\")\n",
    "plt.xlabel(\"Year\")\n",
    "plt.ylabel(\"Price\")\n",
    "plt.scatter(car_df.Year,car_df.Price)"
   ]
  },
  {
   "cell_type": "code",
   "execution_count": 42,
   "metadata": {},
   "outputs": [
    {
     "data": {
      "text/plain": [
       "<matplotlib.collections.PathCollection at 0x23d8fa6feb0>"
      ]
     },
     "execution_count": 42,
     "metadata": {},
     "output_type": "execute_result"
    },
    {
     "data": {
      "image/png": "[encoded data removed]",
      "text/plain": [
       "<Figure size 432x288 with 1 Axes>"
      ]
     },
     "metadata": {
      "needs_background": "light"
     },
     "output_type": "display_data"
    }
   ],
   "source": [
    "#fuel type vs price\n",
    "plt.title(\"Fuel_Type vs Price\")\n",
    "plt.xlabel(\"Fuel_Type\")\n",
    "plt.ylabel(\"Price\")\n",
    "plt.scatter(car_df.Fuel_Type,car_df.Price)\n"
   ]
  },
  {
   "cell_type": "code",
   "execution_count": 43,
   "metadata": {},
   "outputs": [
    {
     "data": {
      "text/plain": [
       "<matplotlib.collections.PathCollection at 0x23d8f806a60>"
      ]
     },
     "execution_count": 43,
     "metadata": {},
     "output_type": "execute_result"
    },
    {
     "data": {
      "image/png": "[encoded data removed]",
      "text/plain": [
       "<Figure size 432x288 with 1 Axes>"
      ]
     },
     "metadata": {
      "needs_background": "light"
     },
     "output_type": "display_data"
    }
   ],
   "source": [
    "#transmission vs price\n",
    "plt.title(\"Transmission vs Price\")\n",
    "plt.xlabel(\"Transmission\")\n",
    "plt.ylabel(\"Price\")\n",
    "plt.scatter(car_df.Transmission,car_df.Price)\n"
   ]
  },
  {
   "cell_type": "code",
   "execution_count": 44,
   "metadata": {},
   "outputs": [
    {
     "data": {
      "text/plain": [
       "<matplotlib.collections.PathCollection at 0x23d8ee666a0>"
      ]
     },
     "execution_count": 44,
     "metadata": {},
     "output_type": "execute_result"
    },
    {
     "data": {
      "image/png": "[encoded data removed]",
      "text/plain": [
       "<Figure size 432x288 with 1 Axes>"
      ]
     },
     "metadata": {
      "needs_background": "light"
     },
     "output_type": "display_data"
    }
   ],
   "source": [
    "#owner type vs price\n",
    "plt.title(\"Owner_Type vs Price\")\n",
    "plt.xlabel(\"Owner\")\n",
    "plt.ylabel(\"Price\")\n",
    "plt.scatter(car_df.Owner_Type,car_df.Price)"
   ]
  },
  {
   "cell_type": "markdown",
   "metadata": {},
   "source": [
    "###### Conclusion of the above features :\n",
    "\n",
    "   - Cars ranging between the years 2012 to 2020 cost more.\n",
    "   - Petrol and diesel cars are costly.\n",
    "   - Automatic cars cost more than manual cars.\n",
    "   - First-hand cars are costly followed by second-hand."
   ]
  },
  {
   "cell_type": "markdown",
   "metadata": {},
   "source": [
    "###### Engine and Power vs Price:"
   ]
  },
  {
   "cell_type": "code",
   "execution_count": 45,
   "metadata": {},
   "outputs": [
    {
     "data": {
      "text/plain": [
       "Text(0.5, 1.0, 'Engine vs Price')"
      ]
     },
     "execution_count": 45,
     "metadata": {},
     "output_type": "execute_result"
    },
    {
     "data": {
      "image/png": "[encoded data removed]",
      "text/plain": [
       "<Figure size 432x288 with 1 Axes>"
      ]
     },
     "metadata": {
      "needs_background": "light"
     },
     "output_type": "display_data"
    }
   ],
   "source": [
    "sns.scatterplot(data=car_df, x='Engine', y='Price').set_title('Engine vs Price')"
   ]
  },
  {
   "cell_type": "code",
   "execution_count": 46,
   "metadata": {},
   "outputs": [
    {
     "data": {
      "text/plain": [
       "Text(0.5, 1.0, 'Power vs Price')"
      ]
     },
     "execution_count": 46,
     "metadata": {},
     "output_type": "execute_result"
    },
    {
     "data": {
      "image/png": "[encoded data removed]",
      "text/plain": [
       "<Figure size 432x288 with 1 Axes>"
      ]
     },
     "metadata": {
      "needs_background": "light"
     },
     "output_type": "display_data"
    }
   ],
   "source": [
    "sns.scatterplot(data=car_df, x='Power', y='Price').set_title('Power vs Price')"
   ]
  },
  {
   "cell_type": "markdown",
   "metadata": {},
   "source": [
    "Both engine cc and power affect the price of a car"
   ]
  },
  {
   "cell_type": "markdown",
   "metadata": {},
   "source": [
    "###### Removing outlier:\n",
    "\n",
    "The relation between price and km drove:"
   ]
  },
  {
   "cell_type": "code",
   "execution_count": 47,
   "metadata": {},
   "outputs": [
    {
     "data": {
      "text/plain": [
       "Text(0.5, 1.0, 'Kilometers_Driven vs Price')"
      ]
     },
     "execution_count": 47,
     "metadata": {},
     "output_type": "execute_result"
    },
    {
     "data": {
      "image/png": "[encoded data removed]",
      "text/plain": [
       "<Figure size 432x288 with 1 Axes>"
      ]
     },
     "metadata": {
      "needs_background": "light"
     },
     "output_type": "display_data"
    }
   ],
   "source": [
    "sns.scatterplot(data=car_df, x='Kilometers_Driven', y='Price').set_title('Kilometers_Driven vs Price')"
   ]
  },
  {
   "cell_type": "markdown",
   "metadata": {},
   "source": [
    "one of the cars has km drove more than 6500000, this is an outlier and we need to remove it"
   ]
  },
  {
   "cell_type": "code",
   "execution_count": 48,
   "metadata": {},
   "outputs": [],
   "source": [
    "#removing outlier\n",
    "car_df.drop(car_df[car_df['Kilometers_Driven'] >= 6500000].index, axis=0, inplace=True)"
   ]
  },
  {
   "cell_type": "markdown",
   "metadata": {},
   "source": [
    "###### The relation of Mileage and Seats with Price:"
   ]
  },
  {
   "cell_type": "code",
   "execution_count": 49,
   "metadata": {},
   "outputs": [
    {
     "data": {
      "text/plain": [
       "Text(0.5, 1.0, 'Mileage vs Price')"
      ]
     },
     "execution_count": 49,
     "metadata": {},
     "output_type": "execute_result"
    },
    {
     "data": {
      "image/png": "[encoded data removed]",
      "text/plain": [
       "<Figure size 432x288 with 1 Axes>"
      ]
     },
     "metadata": {
      "needs_background": "light"
     },
     "output_type": "display_data"
    }
   ],
   "source": [
    "sns.scatterplot(data=car_df, x='Mileage', y='Price').set_title('Mileage vs Price')"
   ]
  },
  {
   "cell_type": "code",
   "execution_count": 50,
   "metadata": {},
   "outputs": [
    {
     "data": {
      "text/plain": [
       "Text(0.5, 1.0, 'Seats vs Price')"
      ]
     },
     "execution_count": 50,
     "metadata": {},
     "output_type": "execute_result"
    },
    {
     "data": {
      "image/png": "[encoded data removed]",
      "text/plain": [
       "<Figure size 432x288 with 1 Axes>"
      ]
     },
     "metadata": {
      "needs_background": "light"
     },
     "output_type": "display_data"
    }
   ],
   "source": [
    "sns.scatterplot(data=car_df, x='Seats', y='Price').set_title('Seats vs Price')"
   ]
  },
  {
   "cell_type": "markdown",
   "metadata": {},
   "source": [
    "Some rows have zero values in mileage and seats columns.\n",
    "Counting no of rows with zero values in Mileage and Seats column :"
   ]
  },
  {
   "cell_type": "code",
   "execution_count": 51,
   "metadata": {},
   "outputs": [
    {
     "data": {
      "text/plain": [
       "Unnamed: 0            1\n",
       "Year                  0\n",
       "Kilometers_Driven     0\n",
       "Fuel_Type             0\n",
       "Transmission          0\n",
       "Owner_Type            0\n",
       "Mileage              68\n",
       "Engine                0\n",
       "Power                 0\n",
       "Seats                 1\n",
       "Price                 0\n",
       "Brand_Name            0\n",
       "dtype: int64"
      ]
     },
     "execution_count": 51,
     "metadata": {},
     "output_type": "execute_result"
    }
   ],
   "source": [
    "car_df.isin([0]).sum()"
   ]
  },
  {
   "cell_type": "markdown",
   "metadata": {},
   "source": [
    "Dropping 1 row from Seats column with zero value:"
   ]
  },
  {
   "cell_type": "code",
   "execution_count": 52,
   "metadata": {},
   "outputs": [],
   "source": [
    "car_df.drop(car_df[car_df['Seats']==0].index,axis=0,inplace=True)"
   ]
  },
  {
   "cell_type": "markdown",
   "metadata": {},
   "source": [
    "Cannot drop rows with zero value in the mileage column otherwise, we will lose 68 rows, which will result in the loss of large data. Hence replacing the zero values with mode value:"
   ]
  },
  {
   "cell_type": "code",
   "execution_count": 53,
   "metadata": {},
   "outputs": [],
   "source": [
    "#we have already calculated the mode of milage column for filling #null values which is 17.0\n",
    "car_df[\"Mileage\"].replace({0.0:17.0 },inplace=True)"
   ]
  },
  {
   "cell_type": "code",
   "execution_count": 54,
   "metadata": {},
   "outputs": [],
   "source": [
    "#dropping the extra column\n",
    "del car_df['Unnamed: 0']\n"
   ]
  },
  {
   "cell_type": "code",
   "execution_count": 55,
   "metadata": {},
   "outputs": [
    {
     "data": {
      "text/html": [
       "<div>\n",
       "<style scoped>\n",
       "    .dataframe tbody tr th:only-of-type {\n",
       "        vertical-align: middle;\n",
       "    }\n",
       "\n",
       "    .dataframe tbody tr th {\n",
       "        vertical-align: top;\n",
       "    }\n",
       "\n",
       "    .dataframe thead th {\n",
       "        text-align: right;\n",
       "    }\n",
       "</style>\n",
       "<table border=\"1\" class=\"dataframe\">\n",
       "  <thead>\n",
       "    <tr style=\"text-align: right;\">\n",
       "      <th></th>\n",
       "      <th>Year</th>\n",
       "      <th>Kilometers_Driven</th>\n",
       "      <th>Fuel_Type</th>\n",
       "      <th>Transmission</th>\n",
       "      <th>Owner_Type</th>\n",
       "      <th>Mileage</th>\n",
       "      <th>Engine</th>\n",
       "      <th>Power</th>\n",
       "      <th>Seats</th>\n",
       "      <th>Price</th>\n",
       "      <th>Brand_Name</th>\n",
       "    </tr>\n",
       "  </thead>\n",
       "  <tbody>\n",
       "    <tr>\n",
       "      <th>0</th>\n",
       "      <td>2010</td>\n",
       "      <td>72000</td>\n",
       "      <td>CNG</td>\n",
       "      <td>Manual</td>\n",
       "      <td>First</td>\n",
       "      <td>26.60</td>\n",
       "      <td>998.0</td>\n",
       "      <td>58.16</td>\n",
       "      <td>5.0</td>\n",
       "      <td>1.75</td>\n",
       "      <td>Maruti</td>\n",
       "    </tr>\n",
       "    <tr>\n",
       "      <th>1</th>\n",
       "      <td>2015</td>\n",
       "      <td>41000</td>\n",
       "      <td>Diesel</td>\n",
       "      <td>Manual</td>\n",
       "      <td>First</td>\n",
       "      <td>19.67</td>\n",
       "      <td>1582.0</td>\n",
       "      <td>126.20</td>\n",
       "      <td>5.0</td>\n",
       "      <td>12.50</td>\n",
       "      <td>Hyundai</td>\n",
       "    </tr>\n",
       "    <tr>\n",
       "      <th>2</th>\n",
       "      <td>2011</td>\n",
       "      <td>46000</td>\n",
       "      <td>Petrol</td>\n",
       "      <td>Manual</td>\n",
       "      <td>First</td>\n",
       "      <td>18.20</td>\n",
       "      <td>1199.0</td>\n",
       "      <td>88.70</td>\n",
       "      <td>5.0</td>\n",
       "      <td>4.50</td>\n",
       "      <td>Honda</td>\n",
       "    </tr>\n",
       "    <tr>\n",
       "      <th>3</th>\n",
       "      <td>2012</td>\n",
       "      <td>87000</td>\n",
       "      <td>Diesel</td>\n",
       "      <td>Manual</td>\n",
       "      <td>First</td>\n",
       "      <td>20.77</td>\n",
       "      <td>1248.0</td>\n",
       "      <td>88.76</td>\n",
       "      <td>7.0</td>\n",
       "      <td>6.00</td>\n",
       "      <td>Maruti</td>\n",
       "    </tr>\n",
       "    <tr>\n",
       "      <th>4</th>\n",
       "      <td>2013</td>\n",
       "      <td>40670</td>\n",
       "      <td>Diesel</td>\n",
       "      <td>Automatic</td>\n",
       "      <td>Second</td>\n",
       "      <td>15.20</td>\n",
       "      <td>1968.0</td>\n",
       "      <td>140.80</td>\n",
       "      <td>5.0</td>\n",
       "      <td>17.74</td>\n",
       "      <td>Audi</td>\n",
       "    </tr>\n",
       "  </tbody>\n",
       "</table>\n",
       "</div>"
      ],
      "text/plain": [
       "   Year  Kilometers_Driven Fuel_Type Transmission Owner_Type  Mileage  Engine  \\\n",
       "0  2010              72000       CNG       Manual      First    26.60   998.0   \n",
       "1  2015              41000    Diesel       Manual      First    19.67  1582.0   \n",
       "2  2011              46000    Petrol       Manual      First    18.20  1199.0   \n",
       "3  2012              87000    Diesel       Manual      First    20.77  1248.0   \n",
       "4  2013              40670    Diesel    Automatic     Second    15.20  1968.0   \n",
       "\n",
       "    Power  Seats  Price Brand_Name  \n",
       "0   58.16    5.0   1.75     Maruti  \n",
       "1  126.20    5.0  12.50    Hyundai  \n",
       "2   88.70    5.0   4.50      Honda  \n",
       "3   88.76    7.0   6.00     Maruti  \n",
       "4  140.80    5.0  17.74       Audi  "
      ]
     },
     "execution_count": 55,
     "metadata": {},
     "output_type": "execute_result"
    }
   ],
   "source": [
    "car_df.head(5)"
   ]
  },
  {
   "cell_type": "code",
   "execution_count": 56,
   "metadata": {},
   "outputs": [
    {
     "data": {
      "text/plain": [
       "Year                 0\n",
       "Kilometers_Driven    0\n",
       "Fuel_Type            0\n",
       "Transmission         0\n",
       "Owner_Type           0\n",
       "Mileage              0\n",
       "Engine               0\n",
       "Power                0\n",
       "Seats                0\n",
       "Price                0\n",
       "Brand_Name           0\n",
       "dtype: int64"
      ]
     },
     "execution_count": 56,
     "metadata": {},
     "output_type": "execute_result"
    }
   ],
   "source": [
    "car_df.isin([0]).sum()"
   ]
  },
  {
   "cell_type": "markdown",
   "metadata": {},
   "source": [
    "## Handling categorical Columns\n"
   ]
  },
  {
   "cell_type": "code",
   "execution_count": 57,
   "metadata": {},
   "outputs": [],
   "source": [
    "#creating a new dataframe \n",
    "car_df1 = car_df.copy()"
   ]
  },
  {
   "cell_type": "markdown",
   "metadata": {},
   "source": [
    "Fuel_Type ,Transmission,Owner_type,and Brand_Name are categorical columns:"
   ]
  },
  {
   "cell_type": "code",
   "execution_count": 58,
   "metadata": {},
   "outputs": [],
   "source": [
    "from sklearn.linear_model import LinearRegression\n",
    "from sklearn.metrics import r2_score\n",
    "from sklearn.preprocessing import OneHotEncoder\n",
    "from sklearn.compose import make_column_transformer\n",
    "from sklearn.pipeline import make_pipeline\n",
    "from sklearn.preprocessing import LabelEncoder"
   ]
  },
  {
   "cell_type": "code",
   "execution_count": 59,
   "metadata": {},
   "outputs": [],
   "source": [
    "le_Fuel_Type=LabelEncoder()\n",
    "le_Transmission=LabelEncoder()\n",
    "le_Owner_Type=LabelEncoder()\n",
    "le_Brand_Name=LabelEncoder()\n",
    "car_df1['Fuel_Type_n']= le_Fuel_Type.fit_transform(car_df1['Fuel_Type'])\n",
    "car_df1['Transmission_n']=le_Transmission.fit_transform(car_df1['Transmission'])\n",
    "car_df1['Owner_Type_n']=le_Owner_Type.fit_transform(car_df1['Owner_Type'])\n",
    "car_df1['Brand_Name_n']=le_Brand_Name.fit_transform(car_df1['Brand_Name'])"
   ]
  },
  {
   "cell_type": "code",
   "execution_count": 60,
   "metadata": {},
   "outputs": [
    {
     "data": {
      "text/html": [
       "<div>\n",
       "<style scoped>\n",
       "    .dataframe tbody tr th:only-of-type {\n",
       "        vertical-align: middle;\n",
       "    }\n",
       "\n",
       "    .dataframe tbody tr th {\n",
       "        vertical-align: top;\n",
       "    }\n",
       "\n",
       "    .dataframe thead th {\n",
       "        text-align: right;\n",
       "    }\n",
       "</style>\n",
       "<table border=\"1\" class=\"dataframe\">\n",
       "  <thead>\n",
       "    <tr style=\"text-align: right;\">\n",
       "      <th></th>\n",
       "      <th>Year</th>\n",
       "      <th>Kilometers_Driven</th>\n",
       "      <th>Fuel_Type</th>\n",
       "      <th>Transmission</th>\n",
       "      <th>Owner_Type</th>\n",
       "      <th>Mileage</th>\n",
       "      <th>Engine</th>\n",
       "      <th>Power</th>\n",
       "      <th>Seats</th>\n",
       "      <th>Price</th>\n",
       "      <th>Brand_Name</th>\n",
       "      <th>Fuel_Type_n</th>\n",
       "      <th>Transmission_n</th>\n",
       "      <th>Owner_Type_n</th>\n",
       "      <th>Brand_Name_n</th>\n",
       "    </tr>\n",
       "  </thead>\n",
       "  <tbody>\n",
       "    <tr>\n",
       "      <th>0</th>\n",
       "      <td>2010</td>\n",
       "      <td>72000</td>\n",
       "      <td>CNG</td>\n",
       "      <td>Manual</td>\n",
       "      <td>First</td>\n",
       "      <td>26.6</td>\n",
       "      <td>998.0</td>\n",
       "      <td>58.16</td>\n",
       "      <td>5.0</td>\n",
       "      <td>1.75</td>\n",
       "      <td>Maruti</td>\n",
       "      <td>0</td>\n",
       "      <td>1</td>\n",
       "      <td>0</td>\n",
       "      <td>17</td>\n",
       "    </tr>\n",
       "  </tbody>\n",
       "</table>\n",
       "</div>"
      ],
      "text/plain": [
       "   Year  Kilometers_Driven Fuel_Type Transmission Owner_Type  Mileage  Engine  \\\n",
       "0  2010              72000       CNG       Manual      First     26.6   998.0   \n",
       "\n",
       "   Power  Seats  Price Brand_Name  Fuel_Type_n  Transmission_n  Owner_Type_n  \\\n",
       "0  58.16    5.0   1.75     Maruti            0               1             0   \n",
       "\n",
       "   Brand_Name_n  \n",
       "0            17  "
      ]
     },
     "execution_count": 60,
     "metadata": {},
     "output_type": "execute_result"
    }
   ],
   "source": [
    "car_df1.head(1)"
   ]
  },
  {
   "cell_type": "markdown",
   "metadata": {},
   "source": [
    "Dropping columns with data type object:"
   ]
  },
  {
   "cell_type": "code",
   "execution_count": 61,
   "metadata": {},
   "outputs": [],
   "source": [
    "car_df2=car_df1.drop([\"Fuel_Type\",\"Transmission\",\"Owner_Type\",\"Brand_Name\"],axis='columns')\n"
   ]
  },
  {
   "cell_type": "code",
   "execution_count": 62,
   "metadata": {},
   "outputs": [],
   "source": [
    "# ohe = OneHotEncoder()\n",
    "# ohe.fit(car_df[['Fuel_Type','Transmission','Owner_Type','Brand_Name']])\n"
   ]
  },
  {
   "cell_type": "code",
   "execution_count": 63,
   "metadata": {},
   "outputs": [
    {
     "name": "stdout",
     "output_type": "stream",
     "text": [
      "<class 'pandas.core.frame.DataFrame'>\n",
      "Int64Index: 6017 entries, 0 to 6018\n",
      "Data columns (total 11 columns):\n",
      " #   Column             Non-Null Count  Dtype  \n",
      "---  ------             --------------  -----  \n",
      " 0   Year               6017 non-null   int64  \n",
      " 1   Kilometers_Driven  6017 non-null   int64  \n",
      " 2   Mileage            6017 non-null   float64\n",
      " 3   Engine             6017 non-null   float64\n",
      " 4   Power              6017 non-null   float64\n",
      " 5   Seats              6017 non-null   float64\n",
      " 6   Price              6017 non-null   float64\n",
      " 7   Fuel_Type_n        6017 non-null   int32  \n",
      " 8   Transmission_n     6017 non-null   int32  \n",
      " 9   Owner_Type_n       6017 non-null   int32  \n",
      " 10  Brand_Name_n       6017 non-null   int32  \n",
      "dtypes: float64(5), int32(4), int64(2)\n",
      "memory usage: 470.1 KB\n"
     ]
    }
   ],
   "source": [
    "car_df2.info()"
   ]
  },
  {
   "cell_type": "code",
   "execution_count": 64,
   "metadata": {},
   "outputs": [],
   "source": [
    "# column_trans = make_column_transformer((OneHotEncoder(),['Fuel_Type','Transmission','Owner_Type','Brand_Name']),\n",
    "#                                       remainder='passthrough')"
   ]
  },
  {
   "cell_type": "code",
   "execution_count": 65,
   "metadata": {},
   "outputs": [],
   "source": [
    "#Shuffling the columns as per our need\n",
    "car_df1=car_df1[['Brand_Name_n','Year','Kilometers_Driven','Fuel_Type_n','Transmission_n','Owner_Type_n','Mileage','Engine','Power','Seats','Price']]"
   ]
  },
  {
   "cell_type": "markdown",
   "metadata": {},
   "source": [
    "## Correlation matrix"
   ]
  },
  {
   "cell_type": "code",
   "execution_count": 66,
   "metadata": {},
   "outputs": [
    {
     "data": {
      "image/png": "[encoded data removed]",
      "text/plain": [
       "<Figure size 1152x576 with 2 Axes>"
      ]
     },
     "metadata": {
      "needs_background": "light"
     },
     "output_type": "display_data"
    }
   ],
   "source": [
    "corrMatrix = car_df2.corr()\n",
    "plt.figure(figsize=(16,8))\n",
    "sns.heatmap(corrMatrix, annot=True,cmap= 'YlGnBu', linewidths=3, linecolor='black')\n",
    "plt.show()"
   ]
  },
  {
   "cell_type": "markdown",
   "metadata": {},
   "source": [
    "creating 2 new data frames:"
   ]
  },
  {
   "cell_type": "code",
   "execution_count": 67,
   "metadata": {},
   "outputs": [],
   "source": [
    "car_df2_inputs = car_df2.drop(['Price'],axis='columns')\n",
    "car_df2_target = car_df2['Price']"
   ]
  },
  {
   "cell_type": "code",
   "execution_count": 68,
   "metadata": {},
   "outputs": [
    {
     "data": {
      "text/html": [
       "<div>\n",
       "<style scoped>\n",
       "    .dataframe tbody tr th:only-of-type {\n",
       "        vertical-align: middle;\n",
       "    }\n",
       "\n",
       "    .dataframe tbody tr th {\n",
       "        vertical-align: top;\n",
       "    }\n",
       "\n",
       "    .dataframe thead th {\n",
       "        text-align: right;\n",
       "    }\n",
       "</style>\n",
       "<table border=\"1\" class=\"dataframe\">\n",
       "  <thead>\n",
       "    <tr style=\"text-align: right;\">\n",
       "      <th></th>\n",
       "      <th>Year</th>\n",
       "      <th>Kilometers_Driven</th>\n",
       "      <th>Mileage</th>\n",
       "      <th>Engine</th>\n",
       "      <th>Power</th>\n",
       "      <th>Seats</th>\n",
       "      <th>Fuel_Type_n</th>\n",
       "      <th>Transmission_n</th>\n",
       "      <th>Owner_Type_n</th>\n",
       "      <th>Brand_Name_n</th>\n",
       "    </tr>\n",
       "  </thead>\n",
       "  <tbody>\n",
       "    <tr>\n",
       "      <th>0</th>\n",
       "      <td>2010</td>\n",
       "      <td>72000</td>\n",
       "      <td>26.60</td>\n",
       "      <td>998.0</td>\n",
       "      <td>58.16</td>\n",
       "      <td>5.0</td>\n",
       "      <td>0</td>\n",
       "      <td>1</td>\n",
       "      <td>0</td>\n",
       "      <td>17</td>\n",
       "    </tr>\n",
       "    <tr>\n",
       "      <th>1</th>\n",
       "      <td>2015</td>\n",
       "      <td>41000</td>\n",
       "      <td>19.67</td>\n",
       "      <td>1582.0</td>\n",
       "      <td>126.20</td>\n",
       "      <td>5.0</td>\n",
       "      <td>1</td>\n",
       "      <td>1</td>\n",
       "      <td>0</td>\n",
       "      <td>10</td>\n",
       "    </tr>\n",
       "    <tr>\n",
       "      <th>2</th>\n",
       "      <td>2011</td>\n",
       "      <td>46000</td>\n",
       "      <td>18.20</td>\n",
       "      <td>1199.0</td>\n",
       "      <td>88.70</td>\n",
       "      <td>5.0</td>\n",
       "      <td>4</td>\n",
       "      <td>1</td>\n",
       "      <td>0</td>\n",
       "      <td>9</td>\n",
       "    </tr>\n",
       "    <tr>\n",
       "      <th>3</th>\n",
       "      <td>2012</td>\n",
       "      <td>87000</td>\n",
       "      <td>20.77</td>\n",
       "      <td>1248.0</td>\n",
       "      <td>88.76</td>\n",
       "      <td>7.0</td>\n",
       "      <td>1</td>\n",
       "      <td>1</td>\n",
       "      <td>0</td>\n",
       "      <td>17</td>\n",
       "    </tr>\n",
       "    <tr>\n",
       "      <th>4</th>\n",
       "      <td>2013</td>\n",
       "      <td>40670</td>\n",
       "      <td>15.20</td>\n",
       "      <td>1968.0</td>\n",
       "      <td>140.80</td>\n",
       "      <td>5.0</td>\n",
       "      <td>1</td>\n",
       "      <td>0</td>\n",
       "      <td>2</td>\n",
       "      <td>1</td>\n",
       "    </tr>\n",
       "  </tbody>\n",
       "</table>\n",
       "</div>"
      ],
      "text/plain": [
       "   Year  Kilometers_Driven  Mileage  Engine   Power  Seats  Fuel_Type_n  \\\n",
       "0  2010              72000    26.60   998.0   58.16    5.0            0   \n",
       "1  2015              41000    19.67  1582.0  126.20    5.0            1   \n",
       "2  2011              46000    18.20  1199.0   88.70    5.0            4   \n",
       "3  2012              87000    20.77  1248.0   88.76    7.0            1   \n",
       "4  2013              40670    15.20  1968.0  140.80    5.0            1   \n",
       "\n",
       "   Transmission_n  Owner_Type_n  Brand_Name_n  \n",
       "0               1             0            17  \n",
       "1               1             0            10  \n",
       "2               1             0             9  \n",
       "3               1             0            17  \n",
       "4               0             2             1  "
      ]
     },
     "execution_count": 68,
     "metadata": {},
     "output_type": "execute_result"
    }
   ],
   "source": [
    "car_df2_inputs.head(5)"
   ]
  },
  {
   "cell_type": "code",
   "execution_count": 69,
   "metadata": {},
   "outputs": [
    {
     "data": {
      "text/plain": [
       "0     1.75\n",
       "1    12.50\n",
       "2     4.50\n",
       "3     6.00\n",
       "4    17.74\n",
       "Name: Price, dtype: float64"
      ]
     },
     "execution_count": 69,
     "metadata": {},
     "output_type": "execute_result"
    }
   ],
   "source": [
    "car_df2_target.head(5)"
   ]
  },
  {
   "cell_type": "markdown",
   "metadata": {},
   "source": [
    "‘car_df1_inputs’ data frame has input features and ‘car_df1_target’ data frame has the target value that we need to predict i.e price"
   ]
  },
  {
   "cell_type": "markdown",
   "metadata": {},
   "source": [
    "__Now let us see which features are the most and least important for predicting the price of a used car:__"
   ]
  },
  {
   "cell_type": "code",
   "execution_count": 70,
   "metadata": {},
   "outputs": [
    {
     "name": "stdout",
     "output_type": "stream",
     "text": [
      "<class 'pandas.core.frame.DataFrame'>\n",
      "Int64Index: 6017 entries, 0 to 6018\n",
      "Data columns (total 11 columns):\n",
      " #   Column             Non-Null Count  Dtype  \n",
      "---  ------             --------------  -----  \n",
      " 0   Year               6017 non-null   int64  \n",
      " 1   Kilometers_Driven  6017 non-null   int64  \n",
      " 2   Mileage            6017 non-null   float64\n",
      " 3   Engine             6017 non-null   float64\n",
      " 4   Power              6017 non-null   float64\n",
      " 5   Seats              6017 non-null   float64\n",
      " 6   Price              6017 non-null   float64\n",
      " 7   Fuel_Type_n        6017 non-null   int32  \n",
      " 8   Transmission_n     6017 non-null   int32  \n",
      " 9   Owner_Type_n       6017 non-null   int32  \n",
      " 10  Brand_Name_n       6017 non-null   int32  \n",
      "dtypes: float64(5), int32(4), int64(2)\n",
      "memory usage: 470.1 KB\n"
     ]
    }
   ],
   "source": [
    "car_df2.info()"
   ]
  },
  {
   "cell_type": "code",
   "execution_count": 71,
   "metadata": {},
   "outputs": [
    {
     "data": {
      "text/plain": [
       "Year                 0\n",
       "Kilometers_Driven    0\n",
       "Fuel_Type            0\n",
       "Transmission         0\n",
       "Owner_Type           0\n",
       "Mileage              0\n",
       "Engine               0\n",
       "Power                0\n",
       "Seats                0\n",
       "Price                0\n",
       "Brand_Name           0\n",
       "dtype: int64"
      ]
     },
     "execution_count": 71,
     "metadata": {},
     "output_type": "execute_result"
    }
   ],
   "source": [
    "car_df.isin([0]).sum()"
   ]
  },
  {
   "cell_type": "code",
   "execution_count": 72,
   "metadata": {},
   "outputs": [],
   "source": [
    "from sklearn.ensemble import ExtraTreesRegressor"
   ]
  },
  {
   "cell_type": "code",
   "execution_count": 73,
   "metadata": {
    "scrolled": true
   },
   "outputs": [
    {
     "data": {
      "text/plain": [
       "ExtraTreesRegressor()"
      ]
     },
     "execution_count": 73,
     "metadata": {},
     "output_type": "execute_result"
    }
   ],
   "source": [
    "from sklearn.ensemble import ExtraTreesRegressor\n",
    "import matplotlib.pyplot as plt\n",
    "model = ExtraTreesRegressor()\n",
    "model.fit(car_df2_inputs,car_df2_target)\n",
    "#use inbuilt class feature_importances of ExtraTreeRegressor\n",
    "#plot graph of feature importances for better visualization\n"
   ]
  },
  {
   "cell_type": "code",
   "execution_count": 74,
   "metadata": {},
   "outputs": [
    {
     "data": {
      "image/png": "[encoded data removed]",
      "text/plain": [
       "<Figure size 792x360 with 1 Axes>"
      ]
     },
     "metadata": {
      "needs_background": "light"
     },
     "output_type": "display_data"
    }
   ],
   "source": [
    "feat_importances = pd.Series(model.feature_importances_, index=car_df2_inputs.columns)\n",
    "plt.figure(figsize=(11,5))\n",
    "plt.xlabel(\"Value\")\n",
    "plt.ylabel(\"Features\")\n",
    "plt.title(\"Features vs Importance\")\n",
    "feat_importances.nlargest(10).plot(kind='barh',color='#D98880')##45B39D\n",
    "plt.grid(color='black', linestyle='-.', linewidth=0.7)\n",
    "plt.show()"
   ]
  },
  {
   "cell_type": "code",
   "execution_count": 75,
   "metadata": {},
   "outputs": [],
   "source": [
    "from sklearn import linear_model\n",
    "from sklearn.tree import DecisionTreeRegressor\n",
    "from sklearn.ensemble import RandomForestRegressor"
   ]
  },
  {
   "cell_type": "code",
   "execution_count": 76,
   "metadata": {},
   "outputs": [],
   "source": [
    "from sklearn.model_selection import GridSearchCV\n",
    "from sklearn.model_selection import ShuffleSplit"
   ]
  },
  {
   "cell_type": "code",
   "execution_count": 77,
   "metadata": {},
   "outputs": [
    {
     "data": {
      "text/html": [
       "<div>\n",
       "<style scoped>\n",
       "    .dataframe tbody tr th:only-of-type {\n",
       "        vertical-align: middle;\n",
       "    }\n",
       "\n",
       "    .dataframe tbody tr th {\n",
       "        vertical-align: top;\n",
       "    }\n",
       "\n",
       "    .dataframe thead th {\n",
       "        text-align: right;\n",
       "    }\n",
       "</style>\n",
       "<table border=\"1\" class=\"dataframe\">\n",
       "  <thead>\n",
       "    <tr style=\"text-align: right;\">\n",
       "      <th></th>\n",
       "      <th>model</th>\n",
       "      <th>best_score</th>\n",
       "      <th>best_params</th>\n",
       "    </tr>\n",
       "  </thead>\n",
       "  <tbody>\n",
       "    <tr>\n",
       "      <th>0</th>\n",
       "      <td>linear_regression</td>\n",
       "      <td>0.674731</td>\n",
       "      <td>{'normalize': True}</td>\n",
       "    </tr>\n",
       "    <tr>\n",
       "      <th>1</th>\n",
       "      <td>decision_tree</td>\n",
       "      <td>0.805887</td>\n",
       "      <td>{'criterion': 'friedman_mse', 'splitter': 'best'}</td>\n",
       "    </tr>\n",
       "    <tr>\n",
       "      <th>2</th>\n",
       "      <td>Random_forest</td>\n",
       "      <td>0.868007</td>\n",
       "      <td>{'max_features': 'sqrt', 'n_estimators': 60}</td>\n",
       "    </tr>\n",
       "  </tbody>\n",
       "</table>\n",
       "</div>"
      ],
      "text/plain": [
       "               model  best_score  \\\n",
       "0  linear_regression    0.674731   \n",
       "1      decision_tree    0.805887   \n",
       "2      Random_forest    0.868007   \n",
       "\n",
       "                                         best_params  \n",
       "0                                {'normalize': True}  \n",
       "1  {'criterion': 'friedman_mse', 'splitter': 'best'}  \n",
       "2       {'max_features': 'sqrt', 'n_estimators': 60}  "
      ]
     },
     "execution_count": 77,
     "metadata": {},
     "output_type": "execute_result"
    }
   ],
   "source": [
    "def find_best_model_using_gridsearchcv(car_df2_inputs,car_df2_target):\n",
    "    algos = {\n",
    "        'linear_regression' : {\n",
    "            'model': linear_model.LinearRegression(),\n",
    "            'params': {\n",
    "                'normalize': [True, False]\n",
    "        \n",
    "            }\n",
    "        },\n",
    "        'decision_tree': {\n",
    "            'model': DecisionTreeRegressor(),\n",
    "            'params': {\n",
    "                'criterion' : ['mse','friedman_mse'],\n",
    "                'splitter': ['best','random']\n",
    "            }\n",
    "        },\n",
    "        'Random_forest': {\n",
    "            'model': RandomForestRegressor(),\n",
    "            'params': {\n",
    "                'max_features': ['auto', 'sqrt'],\n",
    "                'n_estimators': [50,60]\n",
    "           }}}\n",
    "    \n",
    "    scores = []\n",
    "    cv = ShuffleSplit(n_splits=5, test_size=0.2, random_state=0)\n",
    "    for algo_name, config in algos.items():\n",
    "        gs =  GridSearchCV(config['model'], config['params'], cv=cv, return_train_score=False)\n",
    "        gs.fit(car_df2_inputs,car_df2_target)\n",
    "        scores.append({\n",
    "            'model': algo_name,\n",
    "            'best_score': gs.best_score_,\n",
    "            'best_params': gs.best_params_\n",
    "        })\n",
    "    return pd.DataFrame(scores,columns=['model','best_score','best_params'])\n",
    "result=find_best_model_using_gridsearchcv(car_df2_inputs,car_df2_target)\n",
    "result"
   ]
  },
  {
   "cell_type": "code",
   "execution_count": 78,
   "metadata": {},
   "outputs": [
    {
     "data": {
      "image/png": "[encoded data removed]",
      "text/plain": [
       "<Figure size 432x288 with 1 Axes>"
      ]
     },
     "metadata": {
      "needs_background": "light"
     },
     "output_type": "display_data"
    }
   ],
   "source": [
    "result_map=result.drop(['best_params'],axis='columns')\n",
    "result_map.plot(x=\"model\",y='best_score',kind='bar',color='#641E16',title='Different models vs accuracy')\n",
    "plt.grid(linestyle='-.')"
   ]
  },
  {
   "cell_type": "markdown",
   "metadata": {},
   "source": [
    "Splitting the data frame for training it on the random forest model :"
   ]
  },
  {
   "cell_type": "code",
   "execution_count": 79,
   "metadata": {},
   "outputs": [],
   "source": [
    "from sklearn.model_selection import train_test_split\n",
    "x_train,x_test,y_train,y_test=train_test_split(car_df2_inputs,car_df2_target,test_size=0.2,random_state=10)"
   ]
  },
  {
   "cell_type": "code",
   "execution_count": 80,
   "metadata": {},
   "outputs": [
    {
     "data": {
      "text/plain": [
       "4813"
      ]
     },
     "execution_count": 80,
     "metadata": {},
     "output_type": "execute_result"
    }
   ],
   "source": [
    "len(x_train)"
   ]
  },
  {
   "cell_type": "code",
   "execution_count": 81,
   "metadata": {},
   "outputs": [
    {
     "data": {
      "text/plain": [
       "1204"
      ]
     },
     "execution_count": 81,
     "metadata": {},
     "output_type": "execute_result"
    }
   ],
   "source": [
    "len(x_test)"
   ]
  },
  {
   "cell_type": "markdown",
   "metadata": {},
   "source": [
    "###### Since Random Forest is giving us the highest accuracy, we will use it"
   ]
  },
  {
   "cell_type": "code",
   "execution_count": 82,
   "metadata": {},
   "outputs": [],
   "source": [
    "#Training model with the best parameters\n",
    "model_RandomForest = RandomForestRegressor(max_features='sqrt',bootstrap='True')"
   ]
  },
  {
   "cell_type": "code",
   "execution_count": 83,
   "metadata": {},
   "outputs": [
    {
     "data": {
      "text/plain": [
       "RandomForestRegressor(bootstrap='True', max_features='sqrt')"
      ]
     },
     "execution_count": 83,
     "metadata": {},
     "output_type": "execute_result"
    }
   ],
   "source": [
    "model_RandomForest.fit(x_train,y_train)"
   ]
  },
  {
   "cell_type": "code",
   "execution_count": 84,
   "metadata": {},
   "outputs": [
    {
     "data": {
      "text/plain": [
       "0.9166284389428021"
      ]
     },
     "execution_count": 84,
     "metadata": {},
     "output_type": "execute_result"
    }
   ],
   "source": [
    "model_RandomForest.score(x_test,y_test)"
   ]
  },
  {
   "cell_type": "markdown",
   "metadata": {},
   "source": [
    "###### Now it's time to import the model in a file:"
   ]
  },
  {
   "cell_type": "code",
   "execution_count": 85,
   "metadata": {},
   "outputs": [],
   "source": [
    "#for that we weill use pickle module\n",
    "import pickle"
   ]
  },
  {
   "cell_type": "code",
   "execution_count": 86,
   "metadata": {},
   "outputs": [],
   "source": [
    "#writing the model in file\n",
    "pickle.dump(model_RandomForest,open('RFmodel.pkl','wb'))"
   ]
  },
  {
   "cell_type": "code",
   "execution_count": 87,
   "metadata": {},
   "outputs": [],
   "source": [
    "#reading the file\n",
    "RFmodel=pickle.load(open('RFmodel.pkl','rb'))"
   ]
  },
  {
   "cell_type": "markdown",
   "metadata": {},
   "source": [
    "## Testing the Model"
   ]
  },
  {
   "cell_type": "code",
   "execution_count": 88,
   "metadata": {},
   "outputs": [
    {
     "data": {
      "text/plain": [
       "array([22.5667])"
      ]
     },
     "execution_count": 88,
     "metadata": {},
     "output_type": "execute_result"
    }
   ],
   "source": [
    "RFmodel.predict([[17,2013,100000,15,1000,40,5.0,3,1,0]])"
   ]
  },
  {
   "cell_type": "code",
   "execution_count": 89,
   "metadata": {},
   "outputs": [
    {
     "data": {
      "text/plain": [
       "array([22.5667])"
      ]
     },
     "execution_count": 89,
     "metadata": {},
     "output_type": "execute_result"
    }
   ],
   "source": [
    "RFmodel.predict([[60,2017,22000,13.68,2393,147.8,8.0,2,1,0]])"
   ]
  },
  {
   "cell_type": "markdown",
   "metadata": {},
   "source": [
    "__The car will cost 22.5 lakh__"
   ]
  },
  {
   "cell_type": "markdown",
   "metadata": {},
   "source": [
    "In the above prediction:\n",
    "\n",
    "- 17- Maruti(Brand_Name)\n",
    "- 2013(year)\n",
    "- 100000(KM drove)\n",
    "- 15(mileage)\n",
    "- 1000(cc)\n",
    "- 40(power)\n",
    "- 5.0-no of seats\n",
    "- 3-Petrol\n",
    "- 1-Manual\n",
    "- 0-first hand"
   ]
  }
 ],
 "metadata": {
  "kernelspec": {
   "display_name": "Python 3",
   "language": "python",
   "name": "python3"
  },
  "language_info": {
   "codemirror_mode": {
    "name": "ipython",
    "version": 3
   },
   "file_extension": ".py",
   "mimetype": "text/x-python",
   "name": "python",
   "nbconvert_exporter": "python",
   "pygments_lexer": "ipython3",
   "version": "3.8.3"
  }
 },
 "nbformat": 4,
 "nbformat_minor": 4
}
